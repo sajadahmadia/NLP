{
  "nbformat": 4,
  "nbformat_minor": 0,
  "metadata": {
    "colab": {
      "provenance": []
    },
    "kernelspec": {
      "name": "python3",
      "display_name": "Python 3"
    },
    "language_info": {
      "name": "python"
    }
  },
  "cells": [
    {
      "cell_type": "markdown",
      "source": [
        "# Topic clustering\n",
        "\n",
        "Topic clustering is unsupervised task since we use unlabeled data. The aim of topic clustering is to categorize corpus of text into homogenized clusters (just like what we have in clustering tasks).\n",
        "\n",
        "In this project, I use a sample of 2000 news texts as the data source. Then, I apply various text cleaning and preprocessing techniques to make the corpus ready for various clustering methods. Afterwards, I use kmeans and LDA to cluster the text and compare the results."
      ],
      "metadata": {
        "id": "t_yoF1tEYYNk"
      }
    },
    {
      "cell_type": "code",
      "execution_count": 133,
      "metadata": {
        "colab": {
          "base_uri": "https://localhost:8080/"
        },
        "id": "-gpCAOz5Cw0S",
        "outputId": "812948e9-8728-4fc0-fe72-a1616e175f56"
      },
      "outputs": [
        {
          "output_type": "stream",
          "name": "stderr",
          "text": [
            "[nltk_data] Downloading package wordnet to /root/nltk_data...\n",
            "[nltk_data]   Package wordnet is already up-to-date!\n",
            "[nltk_data] Downloading package stopwords to /root/nltk_data...\n",
            "[nltk_data]   Package stopwords is already up-to-date!\n"
          ]
        }
      ],
      "source": [
        "# importing libraries\n",
        "import numpy as np\n",
        "import pandas as pd\n",
        "import matplotlib.pyplot as plt\n",
        "\n",
        "# NLP\n",
        "import nltk\n",
        "nltk.download('wordnet')\n",
        "from nltk.tokenize import word_tokenize\n",
        "from nltk.corpus import stopwords\n",
        "nltk.download('stopwords')\n",
        "import gensim\n",
        "import gensim.corpora as corpora\n",
        "from gensim.corpora import Dictionary\n",
        "from gensim.models import TfidfModel, LdaModel,LdaMulticore, CoherenceModel\n",
        "import spacy\n",
        "from gensim.utils import simple_preprocess\n",
        "from collections import Counter"
      ]
    },
    {
      "cell_type": "code",
      "source": [
        "# reading the data\n",
        "df = pd.read_csv(\"https://github.com/sajadahmadia/NLP/raw/main/topic_clustering/raw_data.csv\")\n",
        "print(df.shape)\n",
        "df.head()"
      ],
      "metadata": {
        "colab": {
          "base_uri": "https://localhost:8080/",
          "height": 467
        },
        "id": "nMiKu57sXNAK",
        "outputId": "45f3fb12-0ef3-4784-9974-aa89fc35d9e3"
      },
      "execution_count": 13,
      "outputs": [
        {
          "output_type": "stream",
          "name": "stdout",
          "text": [
            "(2000, 9)\n"
          ]
        },
        {
          "output_type": "execute_result",
          "data": {
            "text/plain": [
              "   Unnamed: 0    outlet                                              title  \\\n",
              "0        7780     Wired             How to Watch Movies in Virtual Reality   \n",
              "1       15708  Guardian                   Can we create a moral metaverse?   \n",
              "2       11975       NYT  92nd Street Y to Host Ron Howard, Gwyneth Palt...   \n",
              "3       12986       NYT  Steven Spielberg on Storytelling’s Power to Fi...   \n",
              "4        5671     Wired      Mass Transit Is in Jeopardy—and So Are Cities   \n",
              "\n",
              "                                            keywords  \\\n",
              "0  ['meta', 'netflix', 'amazon prime', 'oculus', ...   \n",
              "1  ['The metaverse', 'Virtual reality', 'Online a...   \n",
              "2  ['Books', 'Ninety-Second Street Y', 'Gwyneth P...   \n",
              "3  ['Steven Spielberg', 'Shoah Foundation', 'War ...   \n",
              "4  ['public transportation', 'mass transit', 'cit...   \n",
              "\n",
              "                                         description             datetime  \\\n",
              "0  Setting up a VR cinema is simple and proves yo...  2022-01-09 07:00:00   \n",
              "1  In the increasingly lifelike worlds of VR, hig...  2022-05-14 14:00:04   \n",
              "2  The 2019-20 season also features appearances b...  2019-07-17 17:00:04   \n",
              "3  The director is reissuing “Schindler’s List,” ...  2018-12-18 20:19:54   \n",
              "4  Subways and buses are the lifeblood of dense c...  2020-12-14 07:00:00   \n",
              "\n",
              "               authors    category  \\\n",
              "0     ['Reece Rogers']        Gear   \n",
              "1    ['Laurie Clarke']  Technology   \n",
              "2           Sara Aridi        Arts   \n",
              "3         Adam Popescu        Arts   \n",
              "4  ['Aarian Marshall']    Business   \n",
              "\n",
              "                                                body  \n",
              "0  With bots and console resellers snatching away...  \n",
              "1   Psychotherapist Nina Jane Patel had been on F...  \n",
              "2  The upcoming season at 92nd Street Y will feat...  \n",
              "3  LOS ANGELES — “Pinchas, how old are you?” Stev...  \n",
              "4  In the New York City of February 2020, a misse...  "
            ],
            "text/html": [
              "\n",
              "  <div id=\"df-6dd656b7-b204-4391-9cc1-d149409e3148\" class=\"colab-df-container\">\n",
              "    <div>\n",
              "<style scoped>\n",
              "    .dataframe tbody tr th:only-of-type {\n",
              "        vertical-align: middle;\n",
              "    }\n",
              "\n",
              "    .dataframe tbody tr th {\n",
              "        vertical-align: top;\n",
              "    }\n",
              "\n",
              "    .dataframe thead th {\n",
              "        text-align: right;\n",
              "    }\n",
              "</style>\n",
              "<table border=\"1\" class=\"dataframe\">\n",
              "  <thead>\n",
              "    <tr style=\"text-align: right;\">\n",
              "      <th></th>\n",
              "      <th>Unnamed: 0</th>\n",
              "      <th>outlet</th>\n",
              "      <th>title</th>\n",
              "      <th>keywords</th>\n",
              "      <th>description</th>\n",
              "      <th>datetime</th>\n",
              "      <th>authors</th>\n",
              "      <th>category</th>\n",
              "      <th>body</th>\n",
              "    </tr>\n",
              "  </thead>\n",
              "  <tbody>\n",
              "    <tr>\n",
              "      <th>0</th>\n",
              "      <td>7780</td>\n",
              "      <td>Wired</td>\n",
              "      <td>How to Watch Movies in Virtual Reality</td>\n",
              "      <td>['meta', 'netflix', 'amazon prime', 'oculus', ...</td>\n",
              "      <td>Setting up a VR cinema is simple and proves yo...</td>\n",
              "      <td>2022-01-09 07:00:00</td>\n",
              "      <td>['Reece Rogers']</td>\n",
              "      <td>Gear</td>\n",
              "      <td>With bots and console resellers snatching away...</td>\n",
              "    </tr>\n",
              "    <tr>\n",
              "      <th>1</th>\n",
              "      <td>15708</td>\n",
              "      <td>Guardian</td>\n",
              "      <td>Can we create a moral metaverse?</td>\n",
              "      <td>['The metaverse', 'Virtual reality', 'Online a...</td>\n",
              "      <td>In the increasingly lifelike worlds of VR, hig...</td>\n",
              "      <td>2022-05-14 14:00:04</td>\n",
              "      <td>['Laurie Clarke']</td>\n",
              "      <td>Technology</td>\n",
              "      <td>Psychotherapist Nina Jane Patel had been on F...</td>\n",
              "    </tr>\n",
              "    <tr>\n",
              "      <th>2</th>\n",
              "      <td>11975</td>\n",
              "      <td>NYT</td>\n",
              "      <td>92nd Street Y to Host Ron Howard, Gwyneth Palt...</td>\n",
              "      <td>['Books', 'Ninety-Second Street Y', 'Gwyneth P...</td>\n",
              "      <td>The 2019-20 season also features appearances b...</td>\n",
              "      <td>2019-07-17 17:00:04</td>\n",
              "      <td>Sara Aridi</td>\n",
              "      <td>Arts</td>\n",
              "      <td>The upcoming season at 92nd Street Y will feat...</td>\n",
              "    </tr>\n",
              "    <tr>\n",
              "      <th>3</th>\n",
              "      <td>12986</td>\n",
              "      <td>NYT</td>\n",
              "      <td>Steven Spielberg on Storytelling’s Power to Fi...</td>\n",
              "      <td>['Steven Spielberg', 'Shoah Foundation', 'War ...</td>\n",
              "      <td>The director is reissuing “Schindler’s List,” ...</td>\n",
              "      <td>2018-12-18 20:19:54</td>\n",
              "      <td>Adam Popescu</td>\n",
              "      <td>Arts</td>\n",
              "      <td>LOS ANGELES — “Pinchas, how old are you?” Stev...</td>\n",
              "    </tr>\n",
              "    <tr>\n",
              "      <th>4</th>\n",
              "      <td>5671</td>\n",
              "      <td>Wired</td>\n",
              "      <td>Mass Transit Is in Jeopardy—and So Are Cities</td>\n",
              "      <td>['public transportation', 'mass transit', 'cit...</td>\n",
              "      <td>Subways and buses are the lifeblood of dense c...</td>\n",
              "      <td>2020-12-14 07:00:00</td>\n",
              "      <td>['Aarian Marshall']</td>\n",
              "      <td>Business</td>\n",
              "      <td>In the New York City of February 2020, a misse...</td>\n",
              "    </tr>\n",
              "  </tbody>\n",
              "</table>\n",
              "</div>\n",
              "    <div class=\"colab-df-buttons\">\n",
              "\n",
              "  <div class=\"colab-df-container\">\n",
              "    <button class=\"colab-df-convert\" onclick=\"convertToInteractive('df-6dd656b7-b204-4391-9cc1-d149409e3148')\"\n",
              "            title=\"Convert this dataframe to an interactive table.\"\n",
              "            style=\"display:none;\">\n",
              "\n",
              "  <svg xmlns=\"http://www.w3.org/2000/svg\" height=\"24px\" viewBox=\"0 -960 960 960\">\n",
              "    <path d=\"M120-120v-720h720v720H120Zm60-500h600v-160H180v160Zm220 220h160v-160H400v160Zm0 220h160v-160H400v160ZM180-400h160v-160H180v160Zm440 0h160v-160H620v160ZM180-180h160v-160H180v160Zm440 0h160v-160H620v160Z\"/>\n",
              "  </svg>\n",
              "    </button>\n",
              "\n",
              "  <style>\n",
              "    .colab-df-container {\n",
              "      display:flex;\n",
              "      gap: 12px;\n",
              "    }\n",
              "\n",
              "    .colab-df-convert {\n",
              "      background-color: #E8F0FE;\n",
              "      border: none;\n",
              "      border-radius: 50%;\n",
              "      cursor: pointer;\n",
              "      display: none;\n",
              "      fill: #1967D2;\n",
              "      height: 32px;\n",
              "      padding: 0 0 0 0;\n",
              "      width: 32px;\n",
              "    }\n",
              "\n",
              "    .colab-df-convert:hover {\n",
              "      background-color: #E2EBFA;\n",
              "      box-shadow: 0px 1px 2px rgba(60, 64, 67, 0.3), 0px 1px 3px 1px rgba(60, 64, 67, 0.15);\n",
              "      fill: #174EA6;\n",
              "    }\n",
              "\n",
              "    .colab-df-buttons div {\n",
              "      margin-bottom: 4px;\n",
              "    }\n",
              "\n",
              "    [theme=dark] .colab-df-convert {\n",
              "      background-color: #3B4455;\n",
              "      fill: #D2E3FC;\n",
              "    }\n",
              "\n",
              "    [theme=dark] .colab-df-convert:hover {\n",
              "      background-color: #434B5C;\n",
              "      box-shadow: 0px 1px 3px 1px rgba(0, 0, 0, 0.15);\n",
              "      filter: drop-shadow(0px 1px 2px rgba(0, 0, 0, 0.3));\n",
              "      fill: #FFFFFF;\n",
              "    }\n",
              "  </style>\n",
              "\n",
              "    <script>\n",
              "      const buttonEl =\n",
              "        document.querySelector('#df-6dd656b7-b204-4391-9cc1-d149409e3148 button.colab-df-convert');\n",
              "      buttonEl.style.display =\n",
              "        google.colab.kernel.accessAllowed ? 'block' : 'none';\n",
              "\n",
              "      async function convertToInteractive(key) {\n",
              "        const element = document.querySelector('#df-6dd656b7-b204-4391-9cc1-d149409e3148');\n",
              "        const dataTable =\n",
              "          await google.colab.kernel.invokeFunction('convertToInteractive',\n",
              "                                                    [key], {});\n",
              "        if (!dataTable) return;\n",
              "\n",
              "        const docLinkHtml = 'Like what you see? Visit the ' +\n",
              "          '<a target=\"_blank\" href=https://colab.research.google.com/notebooks/data_table.ipynb>data table notebook</a>'\n",
              "          + ' to learn more about interactive tables.';\n",
              "        element.innerHTML = '';\n",
              "        dataTable['output_type'] = 'display_data';\n",
              "        await google.colab.output.renderOutput(dataTable, element);\n",
              "        const docLink = document.createElement('div');\n",
              "        docLink.innerHTML = docLinkHtml;\n",
              "        element.appendChild(docLink);\n",
              "      }\n",
              "    </script>\n",
              "  </div>\n",
              "\n",
              "\n",
              "<div id=\"df-1d97b75c-fcde-4a84-b93e-6c20a68bdcc7\">\n",
              "  <button class=\"colab-df-quickchart\" onclick=\"quickchart('df-1d97b75c-fcde-4a84-b93e-6c20a68bdcc7')\"\n",
              "            title=\"Suggest charts\"\n",
              "            style=\"display:none;\">\n",
              "\n",
              "<svg xmlns=\"http://www.w3.org/2000/svg\" height=\"24px\"viewBox=\"0 0 24 24\"\n",
              "     width=\"24px\">\n",
              "    <g>\n",
              "        <path d=\"M19 3H5c-1.1 0-2 .9-2 2v14c0 1.1.9 2 2 2h14c1.1 0 2-.9 2-2V5c0-1.1-.9-2-2-2zM9 17H7v-7h2v7zm4 0h-2V7h2v10zm4 0h-2v-4h2v4z\"/>\n",
              "    </g>\n",
              "</svg>\n",
              "  </button>\n",
              "\n",
              "<style>\n",
              "  .colab-df-quickchart {\n",
              "      --bg-color: #E8F0FE;\n",
              "      --fill-color: #1967D2;\n",
              "      --hover-bg-color: #E2EBFA;\n",
              "      --hover-fill-color: #174EA6;\n",
              "      --disabled-fill-color: #AAA;\n",
              "      --disabled-bg-color: #DDD;\n",
              "  }\n",
              "\n",
              "  [theme=dark] .colab-df-quickchart {\n",
              "      --bg-color: #3B4455;\n",
              "      --fill-color: #D2E3FC;\n",
              "      --hover-bg-color: #434B5C;\n",
              "      --hover-fill-color: #FFFFFF;\n",
              "      --disabled-bg-color: #3B4455;\n",
              "      --disabled-fill-color: #666;\n",
              "  }\n",
              "\n",
              "  .colab-df-quickchart {\n",
              "    background-color: var(--bg-color);\n",
              "    border: none;\n",
              "    border-radius: 50%;\n",
              "    cursor: pointer;\n",
              "    display: none;\n",
              "    fill: var(--fill-color);\n",
              "    height: 32px;\n",
              "    padding: 0;\n",
              "    width: 32px;\n",
              "  }\n",
              "\n",
              "  .colab-df-quickchart:hover {\n",
              "    background-color: var(--hover-bg-color);\n",
              "    box-shadow: 0 1px 2px rgba(60, 64, 67, 0.3), 0 1px 3px 1px rgba(60, 64, 67, 0.15);\n",
              "    fill: var(--button-hover-fill-color);\n",
              "  }\n",
              "\n",
              "  .colab-df-quickchart-complete:disabled,\n",
              "  .colab-df-quickchart-complete:disabled:hover {\n",
              "    background-color: var(--disabled-bg-color);\n",
              "    fill: var(--disabled-fill-color);\n",
              "    box-shadow: none;\n",
              "  }\n",
              "\n",
              "  .colab-df-spinner {\n",
              "    border: 2px solid var(--fill-color);\n",
              "    border-color: transparent;\n",
              "    border-bottom-color: var(--fill-color);\n",
              "    animation:\n",
              "      spin 1s steps(1) infinite;\n",
              "  }\n",
              "\n",
              "  @keyframes spin {\n",
              "    0% {\n",
              "      border-color: transparent;\n",
              "      border-bottom-color: var(--fill-color);\n",
              "      border-left-color: var(--fill-color);\n",
              "    }\n",
              "    20% {\n",
              "      border-color: transparent;\n",
              "      border-left-color: var(--fill-color);\n",
              "      border-top-color: var(--fill-color);\n",
              "    }\n",
              "    30% {\n",
              "      border-color: transparent;\n",
              "      border-left-color: var(--fill-color);\n",
              "      border-top-color: var(--fill-color);\n",
              "      border-right-color: var(--fill-color);\n",
              "    }\n",
              "    40% {\n",
              "      border-color: transparent;\n",
              "      border-right-color: var(--fill-color);\n",
              "      border-top-color: var(--fill-color);\n",
              "    }\n",
              "    60% {\n",
              "      border-color: transparent;\n",
              "      border-right-color: var(--fill-color);\n",
              "    }\n",
              "    80% {\n",
              "      border-color: transparent;\n",
              "      border-right-color: var(--fill-color);\n",
              "      border-bottom-color: var(--fill-color);\n",
              "    }\n",
              "    90% {\n",
              "      border-color: transparent;\n",
              "      border-bottom-color: var(--fill-color);\n",
              "    }\n",
              "  }\n",
              "</style>\n",
              "\n",
              "  <script>\n",
              "    async function quickchart(key) {\n",
              "      const quickchartButtonEl =\n",
              "        document.querySelector('#' + key + ' button');\n",
              "      quickchartButtonEl.disabled = true;  // To prevent multiple clicks.\n",
              "      quickchartButtonEl.classList.add('colab-df-spinner');\n",
              "      try {\n",
              "        const charts = await google.colab.kernel.invokeFunction(\n",
              "            'suggestCharts', [key], {});\n",
              "      } catch (error) {\n",
              "        console.error('Error during call to suggestCharts:', error);\n",
              "      }\n",
              "      quickchartButtonEl.classList.remove('colab-df-spinner');\n",
              "      quickchartButtonEl.classList.add('colab-df-quickchart-complete');\n",
              "    }\n",
              "    (() => {\n",
              "      let quickchartButtonEl =\n",
              "        document.querySelector('#df-1d97b75c-fcde-4a84-b93e-6c20a68bdcc7 button');\n",
              "      quickchartButtonEl.style.display =\n",
              "        google.colab.kernel.accessAllowed ? 'block' : 'none';\n",
              "    })();\n",
              "  </script>\n",
              "</div>\n",
              "    </div>\n",
              "  </div>\n"
            ]
          },
          "metadata": {},
          "execution_count": 13
        }
      ]
    },
    {
      "cell_type": "markdown",
      "source": [
        "As it appears, our dataset consists of  news articles from NYT(New York Times), Wired, and .... (different news agencies) including their keywords, categories, full text body, time of pulication, and ... . There is also an additional column (Unnamed: 0) that should be removed."
      ],
      "metadata": {
        "id": "7I7VSPuKXtVg"
      }
    },
    {
      "cell_type": "code",
      "source": [
        "# dropping the Unnamed: 0 column\n",
        "df.drop(columns = {\"Unnamed: 0\"}, inplace = True)\n",
        "df.columns"
      ],
      "metadata": {
        "colab": {
          "base_uri": "https://localhost:8080/"
        },
        "id": "Mn0ps8X7dXzg",
        "outputId": "58b6d974-74f0-4ade-c43a-8b08e91da9f3"
      },
      "execution_count": 14,
      "outputs": [
        {
          "output_type": "execute_result",
          "data": {
            "text/plain": [
              "Index(['outlet', 'title', 'keywords', 'description', 'datetime', 'authors',\n",
              "       'category', 'body'],\n",
              "      dtype='object')"
            ]
          },
          "metadata": {},
          "execution_count": 14
        }
      ]
    },
    {
      "cell_type": "markdown",
      "source": [
        "## Text preprocessing\n",
        "\n",
        "At this step, I use different preprocessing techniques to prepare the corpus for using in topic clustering algorithms. I use the body column of the dataframe since it contains the largest amount of data in comparison to other columns, but using other columns or using multiple of them is also recommened for future studies."
      ],
      "metadata": {
        "id": "s1hulI2BeWS0"
      }
    },
    {
      "cell_type": "code",
      "source": [
        "# loading the English language model provided by spaCy\n",
        "nlp = spacy.load(\"en_core_web_sm\")"
      ],
      "metadata": {
        "id": "HpS2OBb1dgtj"
      },
      "execution_count": 16,
      "outputs": []
    },
    {
      "cell_type": "markdown",
      "source": [
        "**Text tokenization:**\n",
        "\n",
        "using the above nlp function, I transform the text in the body column into a list of separated words. The nlp function not only tokenizes the words but also do a whole nlp process on them, ie, it retrieves some meta data for each word like Part of Speech tag for each word."
      ],
      "metadata": {
        "id": "iBLVm1TafD3P"
      }
    },
    {
      "cell_type": "code",
      "source": [
        "df['text_nlp'] = df['body'].apply(lambda x: nlp(str(x)))"
      ],
      "metadata": {
        "id": "OhXS1kpfgEdr"
      },
      "execution_count": 18,
      "outputs": []
    },
    {
      "cell_type": "code",
      "source": [
        "df[['body','text_nlp']].head()"
      ],
      "metadata": {
        "colab": {
          "base_uri": "https://localhost:8080/",
          "height": 206
        },
        "id": "WdRhHw5Uie6k",
        "outputId": "30856fcd-b6bb-4e22-8924-245a7854a04e"
      },
      "execution_count": 20,
      "outputs": [
        {
          "output_type": "execute_result",
          "data": {
            "text/plain": [
              "                                                body  \\\n",
              "0  With bots and console resellers snatching away...   \n",
              "1   Psychotherapist Nina Jane Patel had been on F...   \n",
              "2  The upcoming season at 92nd Street Y will feat...   \n",
              "3  LOS ANGELES — “Pinchas, how old are you?” Stev...   \n",
              "4  In the New York City of February 2020, a misse...   \n",
              "\n",
              "                                            text_nlp  \n",
              "0  (With, bots, and, console, resellers, snatchin...  \n",
              "1  ( , Psychotherapist, Nina, Jane, Patel, had, b...  \n",
              "2  (The, upcoming, season, at, 92nd, Street, Y, w...  \n",
              "3  (LOS, ANGELES, —, “, Pinchas, ,, how, old, are...  \n",
              "4  (In, the, New, York, City, of, February, 2020,...  "
            ],
            "text/html": [
              "\n",
              "  <div id=\"df-a6041af3-d29e-4b9e-970a-ac4983a9cc1f\" class=\"colab-df-container\">\n",
              "    <div>\n",
              "<style scoped>\n",
              "    .dataframe tbody tr th:only-of-type {\n",
              "        vertical-align: middle;\n",
              "    }\n",
              "\n",
              "    .dataframe tbody tr th {\n",
              "        vertical-align: top;\n",
              "    }\n",
              "\n",
              "    .dataframe thead th {\n",
              "        text-align: right;\n",
              "    }\n",
              "</style>\n",
              "<table border=\"1\" class=\"dataframe\">\n",
              "  <thead>\n",
              "    <tr style=\"text-align: right;\">\n",
              "      <th></th>\n",
              "      <th>body</th>\n",
              "      <th>text_nlp</th>\n",
              "    </tr>\n",
              "  </thead>\n",
              "  <tbody>\n",
              "    <tr>\n",
              "      <th>0</th>\n",
              "      <td>With bots and console resellers snatching away...</td>\n",
              "      <td>(With, bots, and, console, resellers, snatchin...</td>\n",
              "    </tr>\n",
              "    <tr>\n",
              "      <th>1</th>\n",
              "      <td>Psychotherapist Nina Jane Patel had been on F...</td>\n",
              "      <td>( , Psychotherapist, Nina, Jane, Patel, had, b...</td>\n",
              "    </tr>\n",
              "    <tr>\n",
              "      <th>2</th>\n",
              "      <td>The upcoming season at 92nd Street Y will feat...</td>\n",
              "      <td>(The, upcoming, season, at, 92nd, Street, Y, w...</td>\n",
              "    </tr>\n",
              "    <tr>\n",
              "      <th>3</th>\n",
              "      <td>LOS ANGELES — “Pinchas, how old are you?” Stev...</td>\n",
              "      <td>(LOS, ANGELES, —, “, Pinchas, ,, how, old, are...</td>\n",
              "    </tr>\n",
              "    <tr>\n",
              "      <th>4</th>\n",
              "      <td>In the New York City of February 2020, a misse...</td>\n",
              "      <td>(In, the, New, York, City, of, February, 2020,...</td>\n",
              "    </tr>\n",
              "  </tbody>\n",
              "</table>\n",
              "</div>\n",
              "    <div class=\"colab-df-buttons\">\n",
              "\n",
              "  <div class=\"colab-df-container\">\n",
              "    <button class=\"colab-df-convert\" onclick=\"convertToInteractive('df-a6041af3-d29e-4b9e-970a-ac4983a9cc1f')\"\n",
              "            title=\"Convert this dataframe to an interactive table.\"\n",
              "            style=\"display:none;\">\n",
              "\n",
              "  <svg xmlns=\"http://www.w3.org/2000/svg\" height=\"24px\" viewBox=\"0 -960 960 960\">\n",
              "    <path d=\"M120-120v-720h720v720H120Zm60-500h600v-160H180v160Zm220 220h160v-160H400v160Zm0 220h160v-160H400v160ZM180-400h160v-160H180v160Zm440 0h160v-160H620v160ZM180-180h160v-160H180v160Zm440 0h160v-160H620v160Z\"/>\n",
              "  </svg>\n",
              "    </button>\n",
              "\n",
              "  <style>\n",
              "    .colab-df-container {\n",
              "      display:flex;\n",
              "      gap: 12px;\n",
              "    }\n",
              "\n",
              "    .colab-df-convert {\n",
              "      background-color: #E8F0FE;\n",
              "      border: none;\n",
              "      border-radius: 50%;\n",
              "      cursor: pointer;\n",
              "      display: none;\n",
              "      fill: #1967D2;\n",
              "      height: 32px;\n",
              "      padding: 0 0 0 0;\n",
              "      width: 32px;\n",
              "    }\n",
              "\n",
              "    .colab-df-convert:hover {\n",
              "      background-color: #E2EBFA;\n",
              "      box-shadow: 0px 1px 2px rgba(60, 64, 67, 0.3), 0px 1px 3px 1px rgba(60, 64, 67, 0.15);\n",
              "      fill: #174EA6;\n",
              "    }\n",
              "\n",
              "    .colab-df-buttons div {\n",
              "      margin-bottom: 4px;\n",
              "    }\n",
              "\n",
              "    [theme=dark] .colab-df-convert {\n",
              "      background-color: #3B4455;\n",
              "      fill: #D2E3FC;\n",
              "    }\n",
              "\n",
              "    [theme=dark] .colab-df-convert:hover {\n",
              "      background-color: #434B5C;\n",
              "      box-shadow: 0px 1px 3px 1px rgba(0, 0, 0, 0.15);\n",
              "      filter: drop-shadow(0px 1px 2px rgba(0, 0, 0, 0.3));\n",
              "      fill: #FFFFFF;\n",
              "    }\n",
              "  </style>\n",
              "\n",
              "    <script>\n",
              "      const buttonEl =\n",
              "        document.querySelector('#df-a6041af3-d29e-4b9e-970a-ac4983a9cc1f button.colab-df-convert');\n",
              "      buttonEl.style.display =\n",
              "        google.colab.kernel.accessAllowed ? 'block' : 'none';\n",
              "\n",
              "      async function convertToInteractive(key) {\n",
              "        const element = document.querySelector('#df-a6041af3-d29e-4b9e-970a-ac4983a9cc1f');\n",
              "        const dataTable =\n",
              "          await google.colab.kernel.invokeFunction('convertToInteractive',\n",
              "                                                    [key], {});\n",
              "        if (!dataTable) return;\n",
              "\n",
              "        const docLinkHtml = 'Like what you see? Visit the ' +\n",
              "          '<a target=\"_blank\" href=https://colab.research.google.com/notebooks/data_table.ipynb>data table notebook</a>'\n",
              "          + ' to learn more about interactive tables.';\n",
              "        element.innerHTML = '';\n",
              "        dataTable['output_type'] = 'display_data';\n",
              "        await google.colab.output.renderOutput(dataTable, element);\n",
              "        const docLink = document.createElement('div');\n",
              "        docLink.innerHTML = docLinkHtml;\n",
              "        element.appendChild(docLink);\n",
              "      }\n",
              "    </script>\n",
              "  </div>\n",
              "\n",
              "\n",
              "<div id=\"df-e8db78d8-14e5-46f8-af2f-a12a52057d11\">\n",
              "  <button class=\"colab-df-quickchart\" onclick=\"quickchart('df-e8db78d8-14e5-46f8-af2f-a12a52057d11')\"\n",
              "            title=\"Suggest charts\"\n",
              "            style=\"display:none;\">\n",
              "\n",
              "<svg xmlns=\"http://www.w3.org/2000/svg\" height=\"24px\"viewBox=\"0 0 24 24\"\n",
              "     width=\"24px\">\n",
              "    <g>\n",
              "        <path d=\"M19 3H5c-1.1 0-2 .9-2 2v14c0 1.1.9 2 2 2h14c1.1 0 2-.9 2-2V5c0-1.1-.9-2-2-2zM9 17H7v-7h2v7zm4 0h-2V7h2v10zm4 0h-2v-4h2v4z\"/>\n",
              "    </g>\n",
              "</svg>\n",
              "  </button>\n",
              "\n",
              "<style>\n",
              "  .colab-df-quickchart {\n",
              "      --bg-color: #E8F0FE;\n",
              "      --fill-color: #1967D2;\n",
              "      --hover-bg-color: #E2EBFA;\n",
              "      --hover-fill-color: #174EA6;\n",
              "      --disabled-fill-color: #AAA;\n",
              "      --disabled-bg-color: #DDD;\n",
              "  }\n",
              "\n",
              "  [theme=dark] .colab-df-quickchart {\n",
              "      --bg-color: #3B4455;\n",
              "      --fill-color: #D2E3FC;\n",
              "      --hover-bg-color: #434B5C;\n",
              "      --hover-fill-color: #FFFFFF;\n",
              "      --disabled-bg-color: #3B4455;\n",
              "      --disabled-fill-color: #666;\n",
              "  }\n",
              "\n",
              "  .colab-df-quickchart {\n",
              "    background-color: var(--bg-color);\n",
              "    border: none;\n",
              "    border-radius: 50%;\n",
              "    cursor: pointer;\n",
              "    display: none;\n",
              "    fill: var(--fill-color);\n",
              "    height: 32px;\n",
              "    padding: 0;\n",
              "    width: 32px;\n",
              "  }\n",
              "\n",
              "  .colab-df-quickchart:hover {\n",
              "    background-color: var(--hover-bg-color);\n",
              "    box-shadow: 0 1px 2px rgba(60, 64, 67, 0.3), 0 1px 3px 1px rgba(60, 64, 67, 0.15);\n",
              "    fill: var(--button-hover-fill-color);\n",
              "  }\n",
              "\n",
              "  .colab-df-quickchart-complete:disabled,\n",
              "  .colab-df-quickchart-complete:disabled:hover {\n",
              "    background-color: var(--disabled-bg-color);\n",
              "    fill: var(--disabled-fill-color);\n",
              "    box-shadow: none;\n",
              "  }\n",
              "\n",
              "  .colab-df-spinner {\n",
              "    border: 2px solid var(--fill-color);\n",
              "    border-color: transparent;\n",
              "    border-bottom-color: var(--fill-color);\n",
              "    animation:\n",
              "      spin 1s steps(1) infinite;\n",
              "  }\n",
              "\n",
              "  @keyframes spin {\n",
              "    0% {\n",
              "      border-color: transparent;\n",
              "      border-bottom-color: var(--fill-color);\n",
              "      border-left-color: var(--fill-color);\n",
              "    }\n",
              "    20% {\n",
              "      border-color: transparent;\n",
              "      border-left-color: var(--fill-color);\n",
              "      border-top-color: var(--fill-color);\n",
              "    }\n",
              "    30% {\n",
              "      border-color: transparent;\n",
              "      border-left-color: var(--fill-color);\n",
              "      border-top-color: var(--fill-color);\n",
              "      border-right-color: var(--fill-color);\n",
              "    }\n",
              "    40% {\n",
              "      border-color: transparent;\n",
              "      border-right-color: var(--fill-color);\n",
              "      border-top-color: var(--fill-color);\n",
              "    }\n",
              "    60% {\n",
              "      border-color: transparent;\n",
              "      border-right-color: var(--fill-color);\n",
              "    }\n",
              "    80% {\n",
              "      border-color: transparent;\n",
              "      border-right-color: var(--fill-color);\n",
              "      border-bottom-color: var(--fill-color);\n",
              "    }\n",
              "    90% {\n",
              "      border-color: transparent;\n",
              "      border-bottom-color: var(--fill-color);\n",
              "    }\n",
              "  }\n",
              "</style>\n",
              "\n",
              "  <script>\n",
              "    async function quickchart(key) {\n",
              "      const quickchartButtonEl =\n",
              "        document.querySelector('#' + key + ' button');\n",
              "      quickchartButtonEl.disabled = true;  // To prevent multiple clicks.\n",
              "      quickchartButtonEl.classList.add('colab-df-spinner');\n",
              "      try {\n",
              "        const charts = await google.colab.kernel.invokeFunction(\n",
              "            'suggestCharts', [key], {});\n",
              "      } catch (error) {\n",
              "        console.error('Error during call to suggestCharts:', error);\n",
              "      }\n",
              "      quickchartButtonEl.classList.remove('colab-df-spinner');\n",
              "      quickchartButtonEl.classList.add('colab-df-quickchart-complete');\n",
              "    }\n",
              "    (() => {\n",
              "      let quickchartButtonEl =\n",
              "        document.querySelector('#df-e8db78d8-14e5-46f8-af2f-a12a52057d11 button');\n",
              "      quickchartButtonEl.style.display =\n",
              "        google.colab.kernel.accessAllowed ? 'block' : 'none';\n",
              "    })();\n",
              "  </script>\n",
              "</div>\n",
              "    </div>\n",
              "  </div>\n"
            ]
          },
          "metadata": {},
          "execution_count": 20
        }
      ]
    },
    {
      "cell_type": "markdown",
      "source": [
        "As we can see, the text_nlp column now contains the tokenized version fo the body column. It also includes some other meta data like the part of speech tag of the word(ie, whether the word is a noun, verb, adverb, ....). You can see the universal part of speech tags [here](https://universaldependencies.org/u/pos/) . To show the meaning of Part of Speech(POS), I apply it on the first row of the body column\n"
      ],
      "metadata": {
        "id": "MJcQIKQAi2FS"
      }
    },
    {
      "cell_type": "code",
      "source": [
        "first_row = nlp(df.iloc[0,-2])\n",
        "\n",
        "spacy.displacy.render(first_row, style='ent', jupyter=True)"
      ],
      "metadata": {
        "colab": {
          "base_uri": "https://localhost:8080/",
          "height": 1000
        },
        "id": "MzeEM-21l7Rj",
        "outputId": "a264a809-4fe5-407f-d4c4-2dc66e13fbad"
      },
      "execution_count": 24,
      "outputs": [
        {
          "output_type": "display_data",
          "data": {
            "text/plain": [
              "<IPython.core.display.HTML object>"
            ],
            "text/html": [
              "<span class=\"tex2jax_ignore\"><div class=\"entities\" style=\"line-height: 2.5; direction: ltr\">With bots and console resellers snatching away many people’s chance to directly purchase \n",
              "<mark class=\"entity\" style=\"background: #bfeeb7; padding: 0.45em 0.6em; margin: 0 0.25em; line-height: 1; border-radius: 0.35em;\">\n",
              "    a PlayStation 5\n",
              "    <span style=\"font-size: 0.8em; font-weight: bold; line-height: 1; border-radius: 0.35em; vertical-align: middle; margin-left: 0.5rem\">PRODUCT</span>\n",
              "</mark>\n",
              " or a new OLED Switch, virtual reality headsets were a popular gift during \n",
              "<mark class=\"entity\" style=\"background: #bfe1d9; padding: 0.45em 0.6em; margin: 0 0.25em; line-height: 1; border-radius: 0.35em;\">\n",
              "    the holiday season\n",
              "    <span style=\"font-size: 0.8em; font-weight: bold; line-height: 1; border-radius: 0.35em; vertical-align: middle; margin-left: 0.5rem\">DATE</span>\n",
              "</mark>\n",
              ". The Meta (Oculus) Quest 2 in particular experienced a surge in corresponding app downloads heading into \n",
              "<mark class=\"entity\" style=\"background: #bfe1d9; padding: 0.45em 0.6em; margin: 0 0.25em; line-height: 1; border-radius: 0.35em;\">\n",
              "    the new year\n",
              "    <span style=\"font-size: 0.8em; font-weight: bold; line-height: 1; border-radius: 0.35em; vertical-align: middle; margin-left: 0.5rem\">DATE</span>\n",
              "</mark>\n",
              ". Whether you’re finished slashing through \n",
              "<mark class=\"entity\" style=\"background: #7aecec; padding: 0.45em 0.6em; margin: 0 0.25em; line-height: 1; border-radius: 0.35em;\">\n",
              "    Beat Saber’s\n",
              "    <span style=\"font-size: 0.8em; font-weight: bold; line-height: 1; border-radius: 0.35em; vertical-align: middle; margin-left: 0.5rem\">ORG</span>\n",
              "</mark>\n",
              " \n",
              "<mark class=\"entity\" style=\"background: #aa9cfc; padding: 0.45em 0.6em; margin: 0 0.25em; line-height: 1; border-radius: 0.35em;\">\n",
              "    Lady Gaga\n",
              "    <span style=\"font-size: 0.8em; font-weight: bold; line-height: 1; border-radius: 0.35em; vertical-align: middle; margin-left: 0.5rem\">PERSON</span>\n",
              "</mark>\n",
              " music pack or need a break from \n",
              "<mark class=\"entity\" style=\"background: #9cc9cc; padding: 0.45em 0.6em; margin: 0 0.25em; line-height: 1; border-radius: 0.35em;\">\n",
              "    the Horizon Workroom\n",
              "    <span style=\"font-size: 0.8em; font-weight: bold; line-height: 1; border-radius: 0.35em; vertical-align: middle; margin-left: 0.5rem\">FAC</span>\n",
              "</mark>\n",
              ", \n",
              "<mark class=\"entity\" style=\"background: #7aecec; padding: 0.45em 0.6em; margin: 0 0.25em; line-height: 1; border-radius: 0.35em;\">\n",
              "    VR\n",
              "    <span style=\"font-size: 0.8em; font-weight: bold; line-height: 1; border-radius: 0.35em; vertical-align: middle; margin-left: 0.5rem\">ORG</span>\n",
              "</mark>\n",
              " headset owners can take the time to kick back and stream a movie. (That Supernatural workout can roll over to \n",
              "<mark class=\"entity\" style=\"background: #bfe1d9; padding: 0.45em 0.6em; margin: 0 0.25em; line-height: 1; border-radius: 0.35em;\">\n",
              "    tomorrow\n",
              "    <span style=\"font-size: 0.8em; font-weight: bold; line-height: 1; border-radius: 0.35em; vertical-align: middle; margin-left: 0.5rem\">DATE</span>\n",
              "</mark>\n",
              ", you’ve earned this.) Outside of a few experiences, watching a movie with a \n",
              "<mark class=\"entity\" style=\"background: #7aecec; padding: 0.45em 0.6em; margin: 0 0.25em; line-height: 1; border-radius: 0.35em;\">\n",
              "    VR\n",
              "    <span style=\"font-size: 0.8em; font-weight: bold; line-height: 1; border-radius: 0.35em; vertical-align: middle; margin-left: 0.5rem\">ORG</span>\n",
              "</mark>\n",
              " headset does not mean you are immersed in the action. When streaming in \n",
              "<mark class=\"entity\" style=\"background: #feca74; padding: 0.45em 0.6em; margin: 0 0.25em; line-height: 1; border-radius: 0.35em;\">\n",
              "    VR\n",
              "    <span style=\"font-size: 0.8em; font-weight: bold; line-height: 1; border-radius: 0.35em; vertical-align: middle; margin-left: 0.5rem\">GPE</span>\n",
              "</mark>\n",
              ", your avatar is often placed in a virtual room or cinema with a 2D viewing screen. Streaming services like \n",
              "<mark class=\"entity\" style=\"background: #feca74; padding: 0.45em 0.6em; margin: 0 0.25em; line-height: 1; border-radius: 0.35em;\">\n",
              "    Netflix\n",
              "    <span style=\"font-size: 0.8em; font-weight: bold; line-height: 1; border-radius: 0.35em; vertical-align: middle; margin-left: 0.5rem\">GPE</span>\n",
              "</mark>\n",
              " and Prime Video have native apps for the \n",
              "<mark class=\"entity\" style=\"background: #ff9561; padding: 0.45em 0.6em; margin: 0 0.25em; line-height: 1; border-radius: 0.35em;\">\n",
              "    Quest\n",
              "    <span style=\"font-size: 0.8em; font-weight: bold; line-height: 1; border-radius: 0.35em; vertical-align: middle; margin-left: 0.5rem\">LOC</span>\n",
              "</mark>\n",
              " that are easy to download. Video-on-demand rentals through \n",
              "<mark class=\"entity\" style=\"background: #7aecec; padding: 0.45em 0.6em; margin: 0 0.25em; line-height: 1; border-radius: 0.35em;\">\n",
              "    YouTube\n",
              "    <span style=\"font-size: 0.8em; font-weight: bold; line-height: 1; border-radius: 0.35em; vertical-align: middle; margin-left: 0.5rem\">ORG</span>\n",
              "</mark>\n",
              " or \n",
              "<mark class=\"entity\" style=\"background: #aa9cfc; padding: 0.45em 0.6em; margin: 0 0.25em; line-height: 1; border-radius: 0.35em;\">\n",
              "    Bigscreen\n",
              "    <span style=\"font-size: 0.8em; font-weight: bold; line-height: 1; border-radius: 0.35em; vertical-align: middle; margin-left: 0.5rem\">PERSON</span>\n",
              "</mark>\n",
              " require a couple more steps, but the process is straightforward. Other movies can be accessed on \n",
              "<mark class=\"entity\" style=\"background: #7aecec; padding: 0.45em 0.6em; margin: 0 0.25em; line-height: 1; border-radius: 0.35em;\">\n",
              "    VR\n",
              "    <span style=\"font-size: 0.8em; font-weight: bold; line-height: 1; border-radius: 0.35em; vertical-align: middle; margin-left: 0.5rem\">ORG</span>\n",
              "</mark>\n",
              " browsers or downloaded to the headset. Although setting up a \n",
              "<mark class=\"entity\" style=\"background: #7aecec; padding: 0.45em 0.6em; margin: 0 0.25em; line-height: 1; border-radius: 0.35em;\">\n",
              "    Remote Desktop Client\n",
              "    <span style=\"font-size: 0.8em; font-weight: bold; line-height: 1; border-radius: 0.35em; vertical-align: middle; margin-left: 0.5rem\">ORG</span>\n",
              "</mark>\n",
              " through \n",
              "<mark class=\"entity\" style=\"background: #7aecec; padding: 0.45em 0.6em; margin: 0 0.25em; line-height: 1; border-radius: 0.35em;\">\n",
              "    Bigscreen\n",
              "    <span style=\"font-size: 0.8em; font-weight: bold; line-height: 1; border-radius: 0.35em; vertical-align: middle; margin-left: 0.5rem\">ORG</span>\n",
              "</mark>\n",
              " takes \n",
              "<mark class=\"entity\" style=\"background: #bfe1d9; padding: 0.45em 0.6em; margin: 0 0.25em; line-height: 1; border-radius: 0.35em;\">\n",
              "    a few minutes\n",
              "    <span style=\"font-size: 0.8em; font-weight: bold; line-height: 1; border-radius: 0.35em; vertical-align: middle; margin-left: 0.5rem\">TIME</span>\n",
              "</mark>\n",
              ", the process is worth it for those who have video files saved to their computer and mainly use a headset at home. Our guide to VR movie watching is primarily focused on \n",
              "<mark class=\"entity\" style=\"background: #ff9561; padding: 0.45em 0.6em; margin: 0 0.25em; line-height: 1; border-radius: 0.35em;\">\n",
              "    the Quest 2\n",
              "    <span style=\"font-size: 0.8em; font-weight: bold; line-height: 1; border-radius: 0.35em; vertical-align: middle; margin-left: 0.5rem\">LOC</span>\n",
              "</mark>\n",
              ", but some suggestions are applicable to the HTC Vive and \n",
              "<mark class=\"entity\" style=\"background: #aa9cfc; padding: 0.45em 0.6em; margin: 0 0.25em; line-height: 1; border-radius: 0.35em;\">\n",
              "    Valve Index\n",
              "    <span style=\"font-size: 0.8em; font-weight: bold; line-height: 1; border-radius: 0.35em; vertical-align: middle; margin-left: 0.5rem\">PERSON</span>\n",
              "</mark>\n",
              ". From Don’t Look Up to Twilight, you just need to download the \n",
              "<mark class=\"entity\" style=\"background: #7aecec; padding: 0.45em 0.6em; margin: 0 0.25em; line-height: 1; border-radius: 0.35em;\">\n",
              "    Netflix\n",
              "    <span style=\"font-size: 0.8em; font-weight: bold; line-height: 1; border-radius: 0.35em; vertical-align: middle; margin-left: 0.5rem\">ORG</span>\n",
              "</mark>\n",
              " app to watch the streaming service’s movies in \n",
              "<mark class=\"entity\" style=\"background: #feca74; padding: 0.45em 0.6em; margin: 0 0.25em; line-height: 1; border-radius: 0.35em;\">\n",
              "    VR\n",
              "    <span style=\"font-size: 0.8em; font-weight: bold; line-height: 1; border-radius: 0.35em; vertical-align: middle; margin-left: 0.5rem\">GPE</span>\n",
              "</mark>\n",
              ". After the app downloads, active members can sign in and new members can sign up for \n",
              "<mark class=\"entity\" style=\"background: #feca74; padding: 0.45em 0.6em; margin: 0 0.25em; line-height: 1; border-radius: 0.35em;\">\n",
              "    Netflix\n",
              "    <span style=\"font-size: 0.8em; font-weight: bold; line-height: 1; border-radius: 0.35em; vertical-align: middle; margin-left: 0.5rem\">GPE</span>\n",
              "</mark>\n",
              ". (Personally, I recommend watching the Fear Street trilogy of movies for a bit of spooky, bloody fun.) \n",
              "<mark class=\"entity\" style=\"background: #7aecec; padding: 0.45em 0.6em; margin: 0 0.25em; line-height: 1; border-radius: 0.35em;\">\n",
              "    Amazon\n",
              "    <span style=\"font-size: 0.8em; font-weight: bold; line-height: 1; border-radius: 0.35em; vertical-align: middle; margin-left: 0.5rem\">ORG</span>\n",
              "</mark>\n",
              " Prime members can stream movies in \n",
              "<mark class=\"entity\" style=\"background: #feca74; padding: 0.45em 0.6em; margin: 0 0.25em; line-height: 1; border-radius: 0.35em;\">\n",
              "    VR\n",
              "    <span style=\"font-size: 0.8em; font-weight: bold; line-height: 1; border-radius: 0.35em; vertical-align: middle; margin-left: 0.5rem\">GPE</span>\n",
              "</mark>\n",
              " through the Prime Video app. All you need to do is download the app and log into your profile to start watching movies like \n",
              "<mark class=\"entity\" style=\"background: #aa9cfc; padding: 0.45em 0.6em; margin: 0 0.25em; line-height: 1; border-radius: 0.35em;\">\n",
              "    Alien\n",
              "    <span style=\"font-size: 0.8em; font-weight: bold; line-height: 1; border-radius: 0.35em; vertical-align: middle; margin-left: 0.5rem\">PERSON</span>\n",
              "</mark>\n",
              ", \n",
              "<mark class=\"entity\" style=\"background: #7aecec; padding: 0.45em 0.6em; margin: 0 0.25em; line-height: 1; border-radius: 0.35em;\">\n",
              "    The Big Sick\n",
              "    <span style=\"font-size: 0.8em; font-weight: bold; line-height: 1; border-radius: 0.35em; vertical-align: middle; margin-left: 0.5rem\">ORG</span>\n",
              "</mark>\n",
              ", and \n",
              "<mark class=\"entity\" style=\"background: #aa9cfc; padding: 0.45em 0.6em; margin: 0 0.25em; line-height: 1; border-radius: 0.35em;\">\n",
              "    Jennifer's Body\n",
              "    <span style=\"font-size: 0.8em; font-weight: bold; line-height: 1; border-radius: 0.35em; vertical-align: middle; margin-left: 0.5rem\">PERSON</span>\n",
              "</mark>\n",
              ". Any \n",
              "<mark class=\"entity\" style=\"background: #7aecec; padding: 0.45em 0.6em; margin: 0 0.25em; line-height: 1; border-radius: 0.35em;\">\n",
              "    Showtime\n",
              "    <span style=\"font-size: 0.8em; font-weight: bold; line-height: 1; border-radius: 0.35em; vertical-align: middle; margin-left: 0.5rem\">ORG</span>\n",
              "</mark>\n",
              " subscribers out there? The service is fairly niche, but the \n",
              "<mark class=\"entity\" style=\"background: #7aecec; padding: 0.45em 0.6em; margin: 0 0.25em; line-height: 1; border-radius: 0.35em;\">\n",
              "    Showtime\n",
              "    <span style=\"font-size: 0.8em; font-weight: bold; line-height: 1; border-radius: 0.35em; vertical-align: middle; margin-left: 0.5rem\">ORG</span>\n",
              "</mark>\n",
              " app lets you experience \n",
              "<mark class=\"entity\" style=\"background: #f0d0ff; padding: 0.45em 0.6em; margin: 0 0.25em; line-height: 1; border-radius: 0.35em;\">\n",
              "    Moonlight\n",
              "    <span style=\"font-size: 0.8em; font-weight: bold; line-height: 1; border-radius: 0.35em; vertical-align: middle; margin-left: 0.5rem\">WORK_OF_ART</span>\n",
              "</mark>\n",
              " and other award-winning movies with a \n",
              "<mark class=\"entity\" style=\"background: #7aecec; padding: 0.45em 0.6em; margin: 0 0.25em; line-height: 1; border-radius: 0.35em;\">\n",
              "    VR\n",
              "    <span style=\"font-size: 0.8em; font-weight: bold; line-height: 1; border-radius: 0.35em; vertical-align: middle; margin-left: 0.5rem\">ORG</span>\n",
              "</mark>\n",
              " headset. If you want to rent recent movies to watch in \n",
              "<mark class=\"entity\" style=\"background: #feca74; padding: 0.45em 0.6em; margin: 0 0.25em; line-height: 1; border-radius: 0.35em;\">\n",
              "    VR\n",
              "    <span style=\"font-size: 0.8em; font-weight: bold; line-height: 1; border-radius: 0.35em; vertical-align: middle; margin-left: 0.5rem\">GPE</span>\n",
              "</mark>\n",
              ", the \n",
              "<mark class=\"entity\" style=\"background: #7aecec; padding: 0.45em 0.6em; margin: 0 0.25em; line-height: 1; border-radius: 0.35em;\">\n",
              "    YouTube\n",
              "    <span style=\"font-size: 0.8em; font-weight: bold; line-height: 1; border-radius: 0.35em; vertical-align: middle; margin-left: 0.5rem\">ORG</span>\n",
              "</mark>\n",
              " app offers a sizable catalog of films at various price points. \n",
              "<mark class=\"entity\" style=\"background: #aa9cfc; padding: 0.45em 0.6em; margin: 0 0.25em; line-height: 1; border-radius: 0.35em;\">\n",
              "    Free Guy\n",
              "    <span style=\"font-size: 0.8em; font-weight: bold; line-height: 1; border-radius: 0.35em; vertical-align: middle; margin-left: 0.5rem\">PERSON</span>\n",
              "</mark>\n",
              " is available to rent for $\n",
              "<mark class=\"entity\" style=\"background: #e4e7d2; padding: 0.45em 0.6em; margin: 0 0.25em; line-height: 1; border-radius: 0.35em;\">\n",
              "    6\n",
              "    <span style=\"font-size: 0.8em; font-weight: bold; line-height: 1; border-radius: 0.35em; vertical-align: middle; margin-left: 0.5rem\">MONEY</span>\n",
              "</mark>\n",
              ", while \n",
              "<mark class=\"entity\" style=\"background: #bfeeb7; padding: 0.45em 0.6em; margin: 0 0.25em; line-height: 1; border-radius: 0.35em;\">\n",
              "    Dune\n",
              "    <span style=\"font-size: 0.8em; font-weight: bold; line-height: 1; border-radius: 0.35em; vertical-align: middle; margin-left: 0.5rem\">PRODUCT</span>\n",
              "</mark>\n",
              " costs a whopping $\n",
              "<mark class=\"entity\" style=\"background: #e4e7d2; padding: 0.45em 0.6em; margin: 0 0.25em; line-height: 1; border-radius: 0.35em;\">\n",
              "    25\n",
              "    <span style=\"font-size: 0.8em; font-weight: bold; line-height: 1; border-radius: 0.35em; vertical-align: middle; margin-left: 0.5rem\">MONEY</span>\n",
              "</mark>\n",
              ". Additional YouTube rental highlights include: Barb and Star Go To Vista Del Mar ($\n",
              "<mark class=\"entity\" style=\"background: #e4e7d2; padding: 0.45em 0.6em; margin: 0 0.25em; line-height: 1; border-radius: 0.35em;\">\n",
              "    6\n",
              "    <span style=\"font-size: 0.8em; font-weight: bold; line-height: 1; border-radius: 0.35em; vertical-align: middle; margin-left: 0.5rem\">MONEY</span>\n",
              "</mark>\n",
              "), No Time to Die ($\n",
              "<mark class=\"entity\" style=\"background: #e4e7d2; padding: 0.45em 0.6em; margin: 0 0.25em; line-height: 1; border-radius: 0.35em;\">\n",
              "    6\n",
              "    <span style=\"font-size: 0.8em; font-weight: bold; line-height: 1; border-radius: 0.35em; vertical-align: middle; margin-left: 0.5rem\">MONEY</span>\n",
              "</mark>\n",
              "), and \n",
              "<mark class=\"entity\" style=\"background: #aa9cfc; padding: 0.45em 0.6em; margin: 0 0.25em; line-height: 1; border-radius: 0.35em;\">\n",
              "    Spencer\n",
              "    <span style=\"font-size: 0.8em; font-weight: bold; line-height: 1; border-radius: 0.35em; vertical-align: middle; margin-left: 0.5rem\">PERSON</span>\n",
              "</mark>\n",
              " ($\n",
              "<mark class=\"entity\" style=\"background: #e4e7d2; padding: 0.45em 0.6em; margin: 0 0.25em; line-height: 1; border-radius: 0.35em;\">\n",
              "    5\n",
              "    <span style=\"font-size: 0.8em; font-weight: bold; line-height: 1; border-radius: 0.35em; vertical-align: middle; margin-left: 0.5rem\">MONEY</span>\n",
              "</mark>\n",
              "). After renting a movie from \n",
              "<mark class=\"entity\" style=\"background: #7aecec; padding: 0.45em 0.6em; margin: 0 0.25em; line-height: 1; border-radius: 0.35em;\">\n",
              "    YouTube\n",
              "    <span style=\"font-size: 0.8em; font-weight: bold; line-height: 1; border-radius: 0.35em; vertical-align: middle; margin-left: 0.5rem\">ORG</span>\n",
              "</mark>\n",
              ", you are given \n",
              "<mark class=\"entity\" style=\"background: #bfe1d9; padding: 0.45em 0.6em; margin: 0 0.25em; line-height: 1; border-radius: 0.35em;\">\n",
              "    one month\n",
              "    <span style=\"font-size: 0.8em; font-weight: bold; line-height: 1; border-radius: 0.35em; vertical-align: middle; margin-left: 0.5rem\">DATE</span>\n",
              "</mark>\n",
              " to begin streaming and \n",
              "<mark class=\"entity\" style=\"background: #bfe1d9; padding: 0.45em 0.6em; margin: 0 0.25em; line-height: 1; border-radius: 0.35em;\">\n",
              "    48 hours\n",
              "    <span style=\"font-size: 0.8em; font-weight: bold; line-height: 1; border-radius: 0.35em; vertical-align: middle; margin-left: 0.5rem\">TIME</span>\n",
              "</mark>\n",
              " to finish the film. Another essential app for watching movies on your VR headset is \n",
              "<mark class=\"entity\" style=\"background: #aa9cfc; padding: 0.45em 0.6em; margin: 0 0.25em; line-height: 1; border-radius: 0.35em;\">\n",
              "    Bigscreen\n",
              "    <span style=\"font-size: 0.8em; font-weight: bold; line-height: 1; border-radius: 0.35em; vertical-align: middle; margin-left: 0.5rem\">PERSON</span>\n",
              "</mark>\n",
              ". It’s basically a virtual movie theater where you enter different environments and stream movies alone or with other people. The selection of rentals is not as extensive as on \n",
              "<mark class=\"entity\" style=\"background: #7aecec; padding: 0.45em 0.6em; margin: 0 0.25em; line-height: 1; border-radius: 0.35em;\">\n",
              "    YouTube\n",
              "    <span style=\"font-size: 0.8em; font-weight: bold; line-height: 1; border-radius: 0.35em; vertical-align: middle; margin-left: 0.5rem\">ORG</span>\n",
              "</mark>\n",
              ", but popular movies like Arrival ($\n",
              "<mark class=\"entity\" style=\"background: #e4e7d2; padding: 0.45em 0.6em; margin: 0 0.25em; line-height: 1; border-radius: 0.35em;\">\n",
              "    4\n",
              "    <span style=\"font-size: 0.8em; font-weight: bold; line-height: 1; border-radius: 0.35em; vertical-align: middle; margin-left: 0.5rem\">MONEY</span>\n",
              "</mark>\n",
              "), Top Gun ($\n",
              "<mark class=\"entity\" style=\"background: #e4e7d2; padding: 0.45em 0.6em; margin: 0 0.25em; line-height: 1; border-radius: 0.35em;\">\n",
              "    5\n",
              "    <span style=\"font-size: 0.8em; font-weight: bold; line-height: 1; border-radius: 0.35em; vertical-align: middle; margin-left: 0.5rem\">MONEY</span>\n",
              "</mark>\n",
              "), and \n",
              "<mark class=\"entity\" style=\"background: #7aecec; padding: 0.45em 0.6em; margin: 0 0.25em; line-height: 1; border-radius: 0.35em;\">\n",
              "    Titanic\n",
              "    <span style=\"font-size: 0.8em; font-weight: bold; line-height: 1; border-radius: 0.35em; vertical-align: middle; margin-left: 0.5rem\">ORG</span>\n",
              "</mark>\n",
              " ($\n",
              "<mark class=\"entity\" style=\"background: #e4e7d2; padding: 0.45em 0.6em; margin: 0 0.25em; line-height: 1; border-radius: 0.35em;\">\n",
              "    5\n",
              "    <span style=\"font-size: 0.8em; font-weight: bold; line-height: 1; border-radius: 0.35em; vertical-align: middle; margin-left: 0.5rem\">MONEY</span>\n",
              "</mark>\n",
              ") are available. Unlike in the physical world, if you're streaming a rental with friends in \n",
              "<mark class=\"entity\" style=\"background: #feca74; padding: 0.45em 0.6em; margin: 0 0.25em; line-height: 1; border-radius: 0.35em;\">\n",
              "    VR\n",
              "    <span style=\"font-size: 0.8em; font-weight: bold; line-height: 1; border-radius: 0.35em; vertical-align: middle; margin-left: 0.5rem\">GPE</span>\n",
              "</mark>\n",
              ", you all have to pay the fee. What about all the streaming services without a native app? \n",
              "<mark class=\"entity\" style=\"background: #aa9cfc; padding: 0.45em 0.6em; margin: 0 0.25em; line-height: 1; border-radius: 0.35em;\">\n",
              "    HBO Max\n",
              "    <span style=\"font-size: 0.8em; font-weight: bold; line-height: 1; border-radius: 0.35em; vertical-align: middle; margin-left: 0.5rem\">PERSON</span>\n",
              "</mark>\n",
              ", \n",
              "<mark class=\"entity\" style=\"background: #aa9cfc; padding: 0.45em 0.6em; margin: 0 0.25em; line-height: 1; border-radius: 0.35em;\">\n",
              "    Hulu\n",
              "    <span style=\"font-size: 0.8em; font-weight: bold; line-height: 1; border-radius: 0.35em; vertical-align: middle; margin-left: 0.5rem\">PERSON</span>\n",
              "</mark>\n",
              ", and \n",
              "<mark class=\"entity\" style=\"background: #7aecec; padding: 0.45em 0.6em; margin: 0 0.25em; line-height: 1; border-radius: 0.35em;\">\n",
              "    Paramount\n",
              "    <span style=\"font-size: 0.8em; font-weight: bold; line-height: 1; border-radius: 0.35em; vertical-align: middle; margin-left: 0.5rem\">ORG</span>\n",
              "</mark>\n",
              " Plus may not have \n",
              "<mark class=\"entity\" style=\"background: #aa9cfc; padding: 0.45em 0.6em; margin: 0 0.25em; line-height: 1; border-radius: 0.35em;\">\n",
              "    VR apps\n",
              "    <span style=\"font-size: 0.8em; font-weight: bold; line-height: 1; border-radius: 0.35em; vertical-align: middle; margin-left: 0.5rem\">PERSON</span>\n",
              "</mark>\n",
              ", but headset owners can open the websites in a browser as a basic workaround. The Firefox Reality app is on Oculus and works more consistently for videos than other \n",
              "<mark class=\"entity\" style=\"background: #7aecec; padding: 0.45em 0.6em; margin: 0 0.25em; line-height: 1; border-radius: 0.35em;\">\n",
              "    VR\n",
              "    <span style=\"font-size: 0.8em; font-weight: bold; line-height: 1; border-radius: 0.35em; vertical-align: middle; margin-left: 0.5rem\">ORG</span>\n",
              "</mark>\n",
              " browsers. Open Firefox in \n",
              "<mark class=\"entity\" style=\"background: #feca74; padding: 0.45em 0.6em; margin: 0 0.25em; line-height: 1; border-radius: 0.35em;\">\n",
              "    VR\n",
              "    <span style=\"font-size: 0.8em; font-weight: bold; line-height: 1; border-radius: 0.35em; vertical-align: middle; margin-left: 0.5rem\">GPE</span>\n",
              "</mark>\n",
              " and visit the website for the streaming service you’re interested in viewing. Use your member information to log in and start watching movies. This method is a little clunky and less reliable than streaming from a dedicated app. If any issues arise, you can troubleshoot by toggling between mobile mode and desktop mode in \n",
              "<mark class=\"entity\" style=\"background: #9cc9cc; padding: 0.45em 0.6em; margin: 0 0.25em; line-height: 1; border-radius: 0.35em;\">\n",
              "    Firefox\n",
              "    <span style=\"font-size: 0.8em; font-weight: bold; line-height: 1; border-radius: 0.35em; vertical-align: middle; margin-left: 0.5rem\">FAC</span>\n",
              "</mark>\n",
              ". The \n",
              "<mark class=\"entity\" style=\"background: #aa9cfc; padding: 0.45em 0.6em; margin: 0 0.25em; line-height: 1; border-radius: 0.35em;\">\n",
              "    Bigscreen\n",
              "    <span style=\"font-size: 0.8em; font-weight: bold; line-height: 1; border-radius: 0.35em; vertical-align: middle; margin-left: 0.5rem\">PERSON</span>\n",
              "</mark>\n",
              " app can be used for a lot more than just movie rentals. Any movies available on your PC can be streamed in \n",
              "<mark class=\"entity\" style=\"background: #feca74; padding: 0.45em 0.6em; margin: 0 0.25em; line-height: 1; border-radius: 0.35em;\">\n",
              "    VR\n",
              "    <span style=\"font-size: 0.8em; font-weight: bold; line-height: 1; border-radius: 0.35em; vertical-align: middle; margin-left: 0.5rem\">GPE</span>\n",
              "</mark>\n",
              ". It’s possible to load movies onto your \n",
              "<mark class=\"entity\" style=\"background: #bfe1d9; padding: 0.45em 0.6em; margin: 0 0.25em; line-height: 1; border-radius: 0.35em;\">\n",
              "    Quest 2\n",
              "    <span style=\"font-size: 0.8em; font-weight: bold; line-height: 1; border-radius: 0.35em; vertical-align: middle; margin-left: 0.5rem\">DATE</span>\n",
              "</mark>\n",
              " for offline viewing by plugging the headset with the charging cable into a PC. Put on the headset and allow data access for the connected device. Once this is completed, the Quest 2 should appear as a device within the This PC tab. Load any entertainment you would like to watch in the \n",
              "<mark class=\"entity\" style=\"background: #7aecec; padding: 0.45em 0.6em; margin: 0 0.25em; line-height: 1; border-radius: 0.35em;\">\n",
              "    Movies\n",
              "    <span style=\"font-size: 0.8em; font-weight: bold; line-height: 1; border-radius: 0.35em; vertical-align: middle; margin-left: 0.5rem\">ORG</span>\n",
              "</mark>\n",
              " folder of \n",
              "<mark class=\"entity\" style=\"background: #ff9561; padding: 0.45em 0.6em; margin: 0 0.25em; line-height: 1; border-radius: 0.35em;\">\n",
              "    the Quest 2\n",
              "    <span style=\"font-size: 0.8em; font-weight: bold; line-height: 1; border-radius: 0.35em; vertical-align: middle; margin-left: 0.5rem\">LOC</span>\n",
              "</mark>\n",
              ". \n",
              "<mark class=\"entity\" style=\"background: #aa9cfc; padding: 0.45em 0.6em; margin: 0 0.25em; line-height: 1; border-radius: 0.35em;\">\n",
              "    Restart Bigscreen\n",
              "    <span style=\"font-size: 0.8em; font-weight: bold; line-height: 1; border-radius: 0.35em; vertical-align: middle; margin-left: 0.5rem\">PERSON</span>\n",
              "</mark>\n",
              " on your headset, and in the Watch section choose \n",
              "<mark class=\"entity\" style=\"background: #aa9cfc; padding: 0.45em 0.6em; margin: 0 0.25em; line-height: 1; border-radius: 0.35em;\">\n",
              "    Videoplayer\n",
              "    <span style=\"font-size: 0.8em; font-weight: bold; line-height: 1; border-radius: 0.35em; vertical-align: middle; margin-left: 0.5rem\">PERSON</span>\n",
              "</mark>\n",
              " and then \n",
              "<mark class=\"entity\" style=\"background: #7aecec; padding: 0.45em 0.6em; margin: 0 0.25em; line-height: 1; border-radius: 0.35em;\">\n",
              "    Local Video Files\n",
              "    <span style=\"font-size: 0.8em; font-weight: bold; line-height: 1; border-radius: 0.35em; vertical-align: middle; margin-left: 0.5rem\">ORG</span>\n",
              "</mark>\n",
              " to access the downloads. Staying home for the evening? It’s not necessary to download all those movies onto your headset to watch them in \n",
              "<mark class=\"entity\" style=\"background: #feca74; padding: 0.45em 0.6em; margin: 0 0.25em; line-height: 1; border-radius: 0.35em;\">\n",
              "    VR\n",
              "    <span style=\"font-size: 0.8em; font-weight: bold; line-height: 1; border-radius: 0.35em; vertical-align: middle; margin-left: 0.5rem\">GPE</span>\n",
              "</mark>\n",
              ". With a PC, visit the \n",
              "<mark class=\"entity\" style=\"background: #7aecec; padding: 0.45em 0.6em; margin: 0 0.25em; line-height: 1; border-radius: 0.35em;\">\n",
              "    Bigscreen\n",
              "    <span style=\"font-size: 0.8em; font-weight: bold; line-height: 1; border-radius: 0.35em; vertical-align: middle; margin-left: 0.5rem\">ORG</span>\n",
              "</mark>\n",
              " website and click \n",
              "<mark class=\"entity\" style=\"background: #f0d0ff; padding: 0.45em 0.6em; margin: 0 0.25em; line-height: 1; border-radius: 0.35em;\">\n",
              "    Download and Remote Desktop\n",
              "    <span style=\"font-size: 0.8em; font-weight: bold; line-height: 1; border-radius: 0.35em; vertical-align: middle; margin-left: 0.5rem\">WORK_OF_ART</span>\n",
              "</mark>\n",
              ". After it downloads, log in to the same \n",
              "<mark class=\"entity\" style=\"background: #7aecec; padding: 0.45em 0.6em; margin: 0 0.25em; line-height: 1; border-radius: 0.35em;\">\n",
              "    Bigscreen\n",
              "    <span style=\"font-size: 0.8em; font-weight: bold; line-height: 1; border-radius: 0.35em; vertical-align: middle; margin-left: 0.5rem\">ORG</span>\n",
              "</mark>\n",
              " account on your PC and VR headset. Now that you are remotely connected to a desktop through \n",
              "<mark class=\"entity\" style=\"background: #7aecec; padding: 0.45em 0.6em; margin: 0 0.25em; line-height: 1; border-radius: 0.35em;\">\n",
              "    Bigscreen\n",
              "    <span style=\"font-size: 0.8em; font-weight: bold; line-height: 1; border-radius: 0.35em; vertical-align: middle; margin-left: 0.5rem\">ORG</span>\n",
              "</mark>\n",
              ", any saved files are easy to boot up and stream. The feature will not work if you have an active VPN or if the devices are connected to different Wi-Fi networks. For more information about streaming movies with other people, watch this step-by-step video from \n",
              "<mark class=\"entity\" style=\"background: #7aecec; padding: 0.45em 0.6em; margin: 0 0.25em; line-height: 1; border-radius: 0.35em;\">\n",
              "    Bigscreen\n",
              "    <span style=\"font-size: 0.8em; font-weight: bold; line-height: 1; border-radius: 0.35em; vertical-align: middle; margin-left: 0.5rem\">ORG</span>\n",
              "</mark>\n",
              ". The straps on a \n",
              "<mark class=\"entity\" style=\"background: #7aecec; padding: 0.45em 0.6em; margin: 0 0.25em; line-height: 1; border-radius: 0.35em;\">\n",
              "    VR\n",
              "    <span style=\"font-size: 0.8em; font-weight: bold; line-height: 1; border-radius: 0.35em; vertical-align: middle; margin-left: 0.5rem\">ORG</span>\n",
              "</mark>\n",
              " headset may not feel comfortable enough to wear during lengthy movies. Trying to watch \n",
              "<mark class=\"entity\" style=\"background: #feca74; padding: 0.45em 0.6em; margin: 0 0.25em; line-height: 1; border-radius: 0.35em;\">\n",
              "    Netflix\n",
              "    <span style=\"font-size: 0.8em; font-weight: bold; line-height: 1; border-radius: 0.35em; vertical-align: middle; margin-left: 0.5rem\">GPE</span>\n",
              "</mark>\n",
              "’s The \n",
              "<mark class=\"entity\" style=\"background: #c887fb; padding: 0.45em 0.6em; margin: 0 0.25em; line-height: 1; border-radius: 0.35em;\">\n",
              "    Irishman\n",
              "    <span style=\"font-size: 0.8em; font-weight: bold; line-height: 1; border-radius: 0.35em; vertical-align: middle; margin-left: 0.5rem\">NORP</span>\n",
              "</mark>\n",
              " with \n",
              "<mark class=\"entity\" style=\"background: #ff9561; padding: 0.45em 0.6em; margin: 0 0.25em; line-height: 1; border-radius: 0.35em;\">\n",
              "    the Quest 2\n",
              "    <span style=\"font-size: 0.8em; font-weight: bold; line-height: 1; border-radius: 0.35em; vertical-align: middle; margin-left: 0.5rem\">LOC</span>\n",
              "</mark>\n",
              " in \n",
              "<mark class=\"entity\" style=\"background: #e4e7d2; padding: 0.45em 0.6em; margin: 0 0.25em; line-height: 1; border-radius: 0.35em;\">\n",
              "    one\n",
              "    <span style=\"font-size: 0.8em; font-weight: bold; line-height: 1; border-radius: 0.35em; vertical-align: middle; margin-left: 0.5rem\">CARDINAL</span>\n",
              "</mark>\n",
              " sitting would likely be an unpleasant experience. That said, streaming movies in \n",
              "<mark class=\"entity\" style=\"background: #feca74; padding: 0.45em 0.6em; margin: 0 0.25em; line-height: 1; border-radius: 0.35em;\">\n",
              "    VR\n",
              "    <span style=\"font-size: 0.8em; font-weight: bold; line-height: 1; border-radius: 0.35em; vertical-align: middle; margin-left: 0.5rem\">GPE</span>\n",
              "</mark>\n",
              " is great for users who want to watch entertainment alone or connect with friends who have headsets. (Don’t worry if the people you want to watch movies with don’t have a headset. There are plenty of other options to host a virtual movie night.) While it’s fun from time to time, I cannot see myself relying solely on \n",
              "<mark class=\"entity\" style=\"background: #f0d0ff; padding: 0.45em 0.6em; margin: 0 0.25em; line-height: 1; border-radius: 0.35em;\">\n",
              "    VR\n",
              "    <span style=\"font-size: 0.8em; font-weight: bold; line-height: 1; border-radius: 0.35em; vertical-align: middle; margin-left: 0.5rem\">WORK_OF_ART</span>\n",
              "</mark>\n",
              " for movies anytime in the near future. The communal aspect of sitting next to family and friends on the couch when possible still has a pretty strong appeal. Plus, the popcorn is real. </div></span>"
            ]
          },
          "metadata": {}
        }
      ]
    },
    {
      "cell_type": "markdown",
      "source": [
        "In the next step, I choose only some part of speech tags that are more meaningful(in my opinion) for clustering texts."
      ],
      "metadata": {
        "id": "8hhPrstZl76c"
      }
    },
    {
      "cell_type": "code",
      "source": [
        "def include_features(x):\n",
        "    include_features = ['VERB', 'PROPN', 'NOUN', 'ADJ', 'PRON']\n",
        "    text = ' '.join([ent.text for ent in x if ent.pos_ in include_features])\n",
        "    return text\n",
        "\n",
        "df['features'] = df['text_nlp'].apply(lambda x: include_features(x))"
      ],
      "metadata": {
        "id": "AwL4f840ihCV"
      },
      "execution_count": 67,
      "outputs": []
    },
    {
      "cell_type": "code",
      "source": [
        "df['features']"
      ],
      "metadata": {
        "colab": {
          "base_uri": "https://localhost:8080/"
        },
        "id": "1D--s-LgoYLt",
        "outputId": "18ab852d-3891-4547-b30e-d23da84e3f6d"
      },
      "execution_count": 68,
      "outputs": [
        {
          "output_type": "execute_result",
          "data": {
            "text/plain": [
              "0       bots console resellers snatching many people c...\n",
              "1       Psychotherapist Nina Jane Patel Facebook Horiz...\n",
              "2       upcoming season 92nd Street Y feature a who ’s...\n",
              "3       LOS ANGELES Pinchas old you Steven Spielberg a...\n",
              "4       New York City February missed subway train nui...\n",
              "                              ...                        \n",
              "1995    Monitor weekly column devoted everything happe...\n",
              "1996    welcome edition Monitor WIRED entertainment ne...\n",
              "1997    driverless cars delivery drones new generation...\n",
              "1998    WASHINGTON Executives Facebook Twitter Google ...\n",
              "1999    DALAD BANNER China They worked factory hands c...\n",
              "Name: features, Length: 2000, dtype: object"
            ]
          },
          "metadata": {},
          "execution_count": 68
        }
      ]
    },
    {
      "cell_type": "markdown",
      "source": [
        "As it looks, some words in each row is removed(those that were not part of the mentioned POS tags). As an example, I investigate the length of the first body before and after applying the POS tagging filter:\n"
      ],
      "metadata": {
        "id": "BppKTLiMog3g"
      }
    },
    {
      "cell_type": "code",
      "source": [
        "print(f\"the length of the first body before filtering based on POS tags {len(df.iloc[0,-3])}\\nafter filtering the tags {len(df.iloc[0,-1])}\")"
      ],
      "metadata": {
        "colab": {
          "base_uri": "https://localhost:8080/"
        },
        "id": "Feg5x7o6ounc",
        "outputId": "5a9092fc-6f24-4f98-9768-d16bd78ffae2"
      },
      "execution_count": 69,
      "outputs": [
        {
          "output_type": "stream",
          "name": "stdout",
          "text": [
            "the length of the first body before filtering based on POS tags 5624\n",
            "after filtering the tags 3810\n"
          ]
        }
      ]
    },
    {
      "cell_type": "markdown",
      "source": [
        "### Removing stop words and retrieving the lemma form of words\n",
        "\n",
        "* Stop words are set of commonly used words in a language. Examples of stop words in English are \"a\",\"an\",\"the\",\"your\",... . We usually remove these words while doing nlp tasks to reach more important words\n",
        "\n",
        "* lemma of a word is the root form of that word. for example, the lemma of \"are\", \"is\", and \"was\" is \"be\". In nlp, we usually use the lemmatized form a word to ignore the grammatical differences of the same root word."
      ],
      "metadata": {
        "id": "PY2z30r5tT2l"
      }
    },
    {
      "cell_type": "markdown",
      "source": [
        "In the next step, I create a function to first remove punctuation and lowercase words while returning a tokenized version of each text, then remove stop words and finally gets the lemmatized form of each word."
      ],
      "metadata": {
        "id": "2c9HP5Z_re6q"
      }
    },
    {
      "cell_type": "code",
      "source": [
        "# retreiving the English stop words and adding \"and\" as an additional word to it\n",
        "stop_words = stopwords.words('english')\n",
        "stop_words.extend([\"and\"])\n",
        "\n",
        "# using nltk library to get the lemmatized version of words\n",
        "lemmatizer = nltk.stem.WordNetLemmatizer()\n",
        "\n",
        "def clean_text(text):\n",
        "    tokens = simple_preprocess(text)\n",
        "    # remove stopwords\n",
        "    text = [token for token in tokens if not token in stop_words]\n",
        "    # lemmatization\n",
        "    text = [lemmatizer.lemmatize(word) for word in text]\n",
        "    return text"
      ],
      "metadata": {
        "id": "PlEJE_axo3fq"
      },
      "execution_count": 70,
      "outputs": []
    },
    {
      "cell_type": "code",
      "source": [
        "df['features']"
      ],
      "metadata": {
        "colab": {
          "base_uri": "https://localhost:8080/"
        },
        "id": "ryPpUykT0-Lb",
        "outputId": "ebce0001-70d9-4837-a7b4-9b7d35961e2c"
      },
      "execution_count": 136,
      "outputs": [
        {
          "output_type": "execute_result",
          "data": {
            "text/plain": [
              "0       [bot, console, resellers, snatching, many, peo...\n",
              "1       [psychotherapist, nina, jane, patel, facebook,...\n",
              "2       [upcoming, season, nd, street, feature, celebr...\n",
              "3       [los, angeles, pinchas, old, steven, spielberg...\n",
              "4       [new, york, city, february, missed, subway, tr...\n",
              "                              ...                        \n",
              "1995    [monitor, weekly, column, devoted, everything,...\n",
              "1996    [welcome, edition, monitor, wired, entertainme...\n",
              "1997    [driverless, car, delivery, drone, new, genera...\n",
              "1998    [washington, executive, facebook, twitter, goo...\n",
              "1999    [dalad, banner, china, worked, factory, hand, ...\n",
              "Name: features, Length: 2000, dtype: object"
            ]
          },
          "metadata": {},
          "execution_count": 136
        }
      ]
    },
    {
      "cell_type": "code",
      "source": [
        "df['features'] = df['features'].apply(lambda text: clean_text(text))\n",
        "df['features']"
      ],
      "metadata": {
        "colab": {
          "base_uri": "https://localhost:8080/"
        },
        "id": "-CH8kEXNtAOu",
        "outputId": "1966a3ea-16c8-48df-bdad-9f8994db473b"
      },
      "execution_count": 72,
      "outputs": [
        {
          "output_type": "execute_result",
          "data": {
            "text/plain": [
              "0       [bot, console, resellers, snatching, many, peo...\n",
              "1       [psychotherapist, nina, jane, patel, facebook,...\n",
              "2       [upcoming, season, nd, street, feature, celebr...\n",
              "3       [los, angeles, pinchas, old, steven, spielberg...\n",
              "4       [new, york, city, february, missed, subway, tr...\n",
              "                              ...                        \n",
              "1995    [monitor, weekly, column, devoted, everything,...\n",
              "1996    [welcome, edition, monitor, wired, entertainme...\n",
              "1997    [driverless, car, delivery, drone, new, genera...\n",
              "1998    [washington, executive, facebook, twitter, goo...\n",
              "1999    [dalad, banner, china, worked, factory, hand, ...\n",
              "Name: features, Length: 2000, dtype: object"
            ]
          },
          "metadata": {},
          "execution_count": 72
        }
      ]
    },
    {
      "cell_type": "markdown",
      "source": [
        "As an example, the first three words of the first body (without applying any preprocessing) is \"bots console resellers snatching\", while after applying the whole preprocessing process it became \"bot console resellers snatching\". The lemmatizer function removed the plural \"s\" from the \"bots\" word."
      ],
      "metadata": {
        "id": "uuaot43rvWvZ"
      }
    },
    {
      "cell_type": "markdown",
      "source": [
        "### TF-IDF(Term Frequency-Inverse Document Frequency)\n",
        "TF-IDF shows the importance of a word in a document amoung a collection of documents (here, body column).\n",
        "TF is calculated as:\n",
        "\n",
        "* **TF(t,d)**= Total number of terms in document d / Number of times term t appears in document d\n",
        "\n",
        "and IDF is calculated as:\n",
        "\n",
        "* **IDF(t,D)**=log(\n",
        "Number of documents containing term (t+1)/\n",
        "Total number of documents in the corpus N\n",
        "​\n",
        " )\n",
        "\n",
        "corpus is the collection of all texts, here the body column.\n",
        "\n",
        "Finally, TF-IDF is the multiplication of these two scores, which shows the importance of a word(and not only the frequency of a word).\n",
        "\n",
        "To get the TF-IDF score, first, I need to create a Gensim Dictionary from the preprocessed column.\n",
        "\n"
      ],
      "metadata": {
        "id": "PM9scpYiv-re"
      }
    },
    {
      "cell_type": "code",
      "source": [
        "# Create a Gensim Dictionary from the documents\n",
        "gensim_dict = Dictionary(df['features'])\n",
        "\n",
        "# Convert the documents to a bag-of-words format using the dictionary\n",
        "corpus = [gensim_dict.doc2bow(doc) for doc in df['features']]\n",
        "\n",
        "# Convert the TF-IDF matrix to Gensim's sparse format\n",
        "tfidf = TfidfModel(corpus, dictionary=gensim_dict)\n",
        "corpus = tfidf[corpus]"
      ],
      "metadata": {
        "colab": {
          "base_uri": "https://localhost:8080/"
        },
        "id": "NP4jcZyyxmJz",
        "outputId": "e3e9d3c3-f378-4577-c325-f5550b64f0f2"
      },
      "execution_count": 73,
      "outputs": [
        {
          "output_type": "stream",
          "name": "stderr",
          "text": [
            "WARNING:gensim.models.tfidfmodel:constructor received both corpus and explicit inverse document frequencies; ignoring the corpus\n"
          ]
        }
      ]
    },
    {
      "cell_type": "markdown",
      "source": [
        "To get an understanding of what happened after applying the tf-idf model, I just print the first values of the first 5 documents.Showing all the tf-idf values even for the first document(which has 3810 words) might not be useful:"
      ],
      "metadata": {
        "id": "3oZdG48U4QmH"
      }
    },
    {
      "cell_type": "code",
      "source": [
        "# display the words and their TF-IDF values:\n",
        "for i, doc_tfidf in zip(range(2),corpus):\n",
        "    print(f\"\\nDocument {i + 1} TF-IDF values:\")\n",
        "    for word_id, tfidf_value in doc_tfidf[:10]:\n",
        "        word = gensim_dict[word_id]\n",
        "        print(f\"{word}: {tfidf_value:.4f}\")"
      ],
      "metadata": {
        "colab": {
          "base_uri": "https://localhost:8080/"
        },
        "id": "iO_gYCZ11lyc",
        "outputId": "abb6be05-67b2-4d5f-8b7c-c0fdeb3694cc"
      },
      "execution_count": 82,
      "outputs": [
        {
          "output_type": "stream",
          "name": "stdout",
          "text": [
            "\n",
            "Document 1 TF-IDF values:\n",
            "access: 0.0170\n",
            "accessed: 0.0290\n",
            "account: 0.0111\n",
            "action: 0.0107\n",
            "active: 0.0350\n",
            "additional: 0.0159\n",
            "alien: 0.0215\n",
            "allow: 0.0115\n",
            "amazon: 0.0109\n",
            "app: 0.1317\n",
            "\n",
            "Document 2 TF-IDF values:\n",
            "account: 0.0096\n",
            "action: 0.0093\n",
            "allow: 0.0100\n",
            "avatar: 0.1186\n",
            "body: 0.0207\n",
            "data: 0.0049\n",
            "entertainment: 0.0151\n",
            "environment: 0.0428\n",
            "experience: 0.0317\n",
            "experienced: 0.0309\n"
          ]
        }
      ]
    },
    {
      "cell_type": "markdown",
      "source": [
        "## Topic Clustering\n",
        "Finally, we come to the interesting part: topic clustering! I use LDA algorithm (Latent Dirichlet Allocation) to find tipic clusters. LDA uses Dirichlet distributions to model the mixture of topics in documents and the distribution of words in topics. Dirichlet distributions are a family of continuous probability distributions often used to model the distribution of probabilities over a fixed set of possible outcomes. For a detailed explanation, see this [link](https://en.wikipedia.org/wiki/Latent_Dirichlet_allocation). But before getting into the interesting part, we should come up with an idea to address a frequently asked topic:"
      ],
      "metadata": {
        "id": "SGEdV6Lk6mRk"
      }
    },
    {
      "cell_type": "markdown",
      "source": [
        "### A highly-frequent topic: Determining the number of clusters\n",
        "\n",
        "Since clustering is an unsupervised technique, determining the number of clusters(especially in those algorithms that we can pre-determine the number of clusters) is an arbitrary choice that might affect our results hugely. As a result, I try different number of clusters and use a coherence metric to calculate topic coherence for each model."
      ],
      "metadata": {
        "id": "gHyguVuY6loX"
      }
    },
    {
      "cell_type": "code",
      "source": [
        "# Train the Gensim LDA model\n",
        "num_topics = 5\n",
        "gensim_lda = LdaModel(corpus, num_topics=num_topics, id2word=gensim_dict)"
      ],
      "metadata": {
        "colab": {
          "base_uri": "https://localhost:8080/"
        },
        "id": "DaHMFLfSzIZe",
        "outputId": "7260be96-4f4b-4bf1-de8c-e6c351efc8c2"
      },
      "execution_count": 75,
      "outputs": [
        {
          "output_type": "stream",
          "name": "stderr",
          "text": [
            "WARNING:gensim.models.ldamodel:too few updates, training might not converge; consider increasing the number of passes or iterations to improve accuracy\n"
          ]
        }
      ]
    },
    {
      "cell_type": "code",
      "source": [
        "topics = []\n",
        "score = []\n",
        "models = []\n",
        "for i in range(2,21,2):\n",
        "   lda_model = LdaMulticore(corpus=corpus, id2word=gensim_dict, iterations=10, num_topics=i, workers = 4, passes=10, random_state=100)\n",
        "   cm = CoherenceModel(model=lda_model, texts = df['features'], corpus=corpus, dictionary=gensim_dict, coherence='c_v')\n",
        "   topics.append(i)\n",
        "   models.append(lda_model)\n",
        "   score.append(cm.get_coherence())"
      ],
      "metadata": {
        "id": "tB6Nq3RL4A-j"
      },
      "execution_count": 86,
      "outputs": []
    },
    {
      "cell_type": "markdown",
      "source": [
        "Although I used the faster version of lda model function(LdaMulticore), it took almost 30 minutes to run. Since I used c_v as the coherene parameter, it returns a value between 0 and 1, the nearer to 1 the better. In the next step, I use the elbow rule to find the best number of clusters that stands out for the number of clusters(model complexity)-performance tradeoff."
      ],
      "metadata": {
        "id": "CbKpUA6nIllb"
      }
    },
    {
      "cell_type": "code",
      "source": [
        "#plotting the c_v value per number of clusters\n",
        "plt.bar(topics, score)\n",
        "plt.xticks(topics, np.arange(2,21,2))\n",
        "plt.xlabel('Number of Topics')\n",
        "plt.ylabel('Coherence Score')\n",
        "plt.show()"
      ],
      "metadata": {
        "colab": {
          "base_uri": "https://localhost:8080/",
          "height": 449
        },
        "id": "IYGeveMG9lxl",
        "outputId": "8f20add2-256e-4dfa-9fa7-fc552957a2f1"
      },
      "execution_count": 101,
      "outputs": [
        {
          "output_type": "display_data",
          "data": {
            "text/plain": [
              "<Figure size 640x480 with 1 Axes>"
            ],
            "image/png": "[encoded data removed]"
          },
          "metadata": {}
        }
      ]
    },
    {
      "cell_type": "markdown",
      "source": [
        "As it seems, using 10 clusters might be good enough."
      ],
      "metadata": {
        "id": "k-YOXrHYITRK"
      }
    },
    {
      "cell_type": "code",
      "source": [
        "selected_model = models[4]\n",
        "\n",
        "# Get a single topic as a formatted string, a combination of coefficients * words per topic cluster\n",
        "selected_model.print_topics()"
      ],
      "metadata": {
        "colab": {
          "base_uri": "https://localhost:8080/"
        },
        "id": "ZbB-qN7BJ0r1",
        "outputId": "aa9a9d91-64f8-4345-bf16-0c5d1e8f5e4e"
      },
      "execution_count": 111,
      "outputs": [
        {
          "output_type": "execute_result",
          "data": {
            "text/plain": [
              "[(0,\n",
              "  '0.000*\"roux\" + 0.000*\"tasty\" + 0.000*\"pozo\" + 0.000*\"massimino\" + 0.000*\"dma\" + 0.000*\"mobilecoin\" + 0.000*\"brewer\" + 0.000*\"gannett\" + 0.000*\"imessage\" + 0.000*\"sediment\"'),\n",
              " (1,\n",
              "  '0.001*\"ai\" + 0.001*\"mr\" + 0.001*\"facebook\" + 0.001*\"google\" + 0.001*\"game\" + 0.001*\"company\" + 0.001*\"said\" + 0.001*\"robot\" + 0.001*\"data\" + 0.001*\"human\"'),\n",
              " (2,\n",
              "  '0.000*\"yandex\" + 0.000*\"tiger\" + 0.000*\"gpt\" + 0.000*\"vet\" + 0.000*\"hikvision\" + 0.000*\"lamda\" + 0.000*\"westworld\" + 0.000*\"jade\" + 0.000*\"coffman\" + 0.000*\"zauner\"'),\n",
              " (3,\n",
              "  '0.000*\"def\" + 0.000*\"knot\" + 0.000*\"ramey\" + 0.000*\"shadowserver\" + 0.000*\"hoa\" + 0.000*\"spitzer\" + 0.000*\"toutiao\" + 0.000*\"kettering\" + 0.000*\"karray\" + 0.000*\"hcl\"'),\n",
              " (4,\n",
              "  '0.002*\"content\" + 0.002*\"found\" + 0.000*\"solms\" + 0.000*\"jellyfish\" + 0.000*\"clipchamp\" + 0.000*\"scif\" + 0.000*\"digitalglobe\" + 0.000*\"tahhan\" + 0.000*\"juggling\" + 0.000*\"halla\"'),\n",
              " (5,\n",
              "  '0.007*\"nan\" + 0.001*\"tournament\" + 0.000*\"gebru\" + 0.000*\"clearview\" + 0.000*\"federer\" + 0.000*\"seeded\" + 0.000*\"deforestation\" + 0.000*\"hingis\" + 0.000*\"alphastar\" + 0.000*\"wimbledon\"'),\n",
              " (6,\n",
              "  '0.000*\"mercury\" + 0.000*\"egirl\" + 0.000*\"cbd\" + 0.000*\"ecosia\" + 0.000*\"chappelle\" + 0.000*\"guo\" + 0.000*\"susskind\" + 0.000*\"ooblets\" + 0.000*\"conti\" + 0.000*\"breiner\"'),\n",
              " (7,\n",
              "  '0.000*\"udacity\" + 0.000*\"wuhan\" + 0.000*\"epstein\" + 0.000*\"atwood\" + 0.000*\"coursera\" + 0.000*\"ito\" + 0.000*\"kindle\" + 0.000*\"adobe\" + 0.000*\"helmet\" + 0.000*\"yelp\"'),\n",
              " (8,\n",
              "  '0.000*\"mcewan\" + 0.000*\"bee\" + 0.000*\"seti\" + 0.000*\"spelling\" + 0.000*\"sorokin\" + 0.000*\"eno\" + 0.000*\"dao\" + 0.000*\"libby\" + 0.000*\"moulton\" + 0.000*\"usds\"'),\n",
              " (9,\n",
              "  '0.000*\"bee\" + 0.000*\"nso\" + 0.000*\"cicada\" + 0.000*\"christchurch\" + 0.000*\"infowars\" + 0.000*\"exscientia\" + 0.000*\"spelling\" + 0.000*\"faceapp\" + 0.000*\"rcs\" + 0.000*\"bitsy\"')]"
            ]
          },
          "metadata": {},
          "execution_count": 111
        }
      ]
    },
    {
      "cell_type": "markdown",
      "source": [
        "finding topics in LDA is not as easy as what we see in KMeans or other clustering algorithms. LDA assigns a probability score for each document to be assigned to each topic cluser. For simplicity, I show the first 5 documents an their assigned cluster probabilities. For more information, use the gensim documentation [here](https://radimrehurek.com/gensim/models/ldamulticore.html#module-gensim.models.ldamulticore)"
      ],
      "metadata": {
        "id": "KQyerzTNayDG"
      }
    },
    {
      "cell_type": "code",
      "source": [
        "# Get the topic distribution for each document\n",
        "topic_documents = selected_model.get_document_topics(corpus)\n",
        "[doc for doc in topic_documents[:5]]"
      ],
      "metadata": {
        "colab": {
          "base_uri": "https://localhost:8080/"
        },
        "id": "9aAs7btBWdA3",
        "outputId": "d7f91bc2-a843-4104-e307-383242dbe19e"
      },
      "execution_count": 112,
      "outputs": [
        {
          "output_type": "execute_result",
          "data": {
            "text/plain": [
              "[[(0, 0.011786871),\n",
              "  (1, 0.89379317),\n",
              "  (2, 0.01178686),\n",
              "  (3, 0.0117868595),\n",
              "  (4, 0.01178686),\n",
              "  (5, 0.011786866),\n",
              "  (6, 0.01178686),\n",
              "  (7, 0.011911935),\n",
              "  (8, 0.0117868595),\n",
              "  (9, 0.011786868)],\n",
              " [(1, 0.9314607)],\n",
              " [(0, 0.013924522),\n",
              "  (1, 0.8746297),\n",
              "  (2, 0.013924522),\n",
              "  (3, 0.013972309),\n",
              "  (4, 0.01392459),\n",
              "  (5, 0.013924521),\n",
              "  (6, 0.013924711),\n",
              "  (7, 0.013924528),\n",
              "  (8, 0.013924518),\n",
              "  (9, 0.013926154)],\n",
              " [(1, 0.9318203)],\n",
              " [(1, 0.9124805)]]"
            ]
          },
          "metadata": {},
          "execution_count": 112
        }
      ]
    },
    {
      "cell_type": "markdown",
      "source": [
        "gensim has a helper function for converting to and from numpy/scipy arrays. I convert the topics into a numpy array and then a dataframe to show them:"
      ],
      "metadata": {
        "id": "pZ0zePHtcjDA"
      }
    },
    {
      "cell_type": "code",
      "source": [
        "all_topics_csr = gensim.matutils.corpus2csc(topic_documents)\n",
        "all_topics_numpy = all_topics_csr.T.toarray()\n",
        "topic_probability = pd.DataFrame(all_topics_numpy)\n",
        "topic_probability.head()"
      ],
      "metadata": {
        "colab": {
          "base_uri": "https://localhost:8080/",
          "height": 206
        },
        "id": "OLOTgA0SZHNC",
        "outputId": "3526174d-ca46-49ef-8184-bd11913550d1"
      },
      "execution_count": 122,
      "outputs": [
        {
          "output_type": "execute_result",
          "data": {
            "text/plain": [
              "          0         1         2         3         4         5         6  \\\n",
              "0  0.011786  0.893718  0.011786  0.011786  0.011786  0.011786  0.011786   \n",
              "1  0.000000  0.931461  0.000000  0.000000  0.000000  0.000000  0.000000   \n",
              "2  0.013925  0.874629  0.013925  0.013973  0.013925  0.013925  0.013925   \n",
              "3  0.000000  0.931820  0.000000  0.000000  0.000000  0.000000  0.000000   \n",
              "4  0.000000  0.912480  0.000000  0.000000  0.000000  0.000000  0.000000   \n",
              "\n",
              "          7         8         9  \n",
              "0  0.011994  0.011786  0.011786  \n",
              "1  0.000000  0.000000  0.000000  \n",
              "2  0.013925  0.013925  0.013926  \n",
              "3  0.000000  0.000000  0.000000  \n",
              "4  0.000000  0.000000  0.000000  "
            ],
            "text/html": [
              "\n",
              "  <div id=\"df-da04e43d-cb56-494a-9d62-409ca59eb366\" class=\"colab-df-container\">\n",
              "    <div>\n",
              "<style scoped>\n",
              "    .dataframe tbody tr th:only-of-type {\n",
              "        vertical-align: middle;\n",
              "    }\n",
              "\n",
              "    .dataframe tbody tr th {\n",
              "        vertical-align: top;\n",
              "    }\n",
              "\n",
              "    .dataframe thead th {\n",
              "        text-align: right;\n",
              "    }\n",
              "</style>\n",
              "<table border=\"1\" class=\"dataframe\">\n",
              "  <thead>\n",
              "    <tr style=\"text-align: right;\">\n",
              "      <th></th>\n",
              "      <th>0</th>\n",
              "      <th>1</th>\n",
              "      <th>2</th>\n",
              "      <th>3</th>\n",
              "      <th>4</th>\n",
              "      <th>5</th>\n",
              "      <th>6</th>\n",
              "      <th>7</th>\n",
              "      <th>8</th>\n",
              "      <th>9</th>\n",
              "    </tr>\n",
              "  </thead>\n",
              "  <tbody>\n",
              "    <tr>\n",
              "      <th>0</th>\n",
              "      <td>0.011786</td>\n",
              "      <td>0.893718</td>\n",
              "      <td>0.011786</td>\n",
              "      <td>0.011786</td>\n",
              "      <td>0.011786</td>\n",
              "      <td>0.011786</td>\n",
              "      <td>0.011786</td>\n",
              "      <td>0.011994</td>\n",
              "      <td>0.011786</td>\n",
              "      <td>0.011786</td>\n",
              "    </tr>\n",
              "    <tr>\n",
              "      <th>1</th>\n",
              "      <td>0.000000</td>\n",
              "      <td>0.931461</td>\n",
              "      <td>0.000000</td>\n",
              "      <td>0.000000</td>\n",
              "      <td>0.000000</td>\n",
              "      <td>0.000000</td>\n",
              "      <td>0.000000</td>\n",
              "      <td>0.000000</td>\n",
              "      <td>0.000000</td>\n",
              "      <td>0.000000</td>\n",
              "    </tr>\n",
              "    <tr>\n",
              "      <th>2</th>\n",
              "      <td>0.013925</td>\n",
              "      <td>0.874629</td>\n",
              "      <td>0.013925</td>\n",
              "      <td>0.013973</td>\n",
              "      <td>0.013925</td>\n",
              "      <td>0.013925</td>\n",
              "      <td>0.013925</td>\n",
              "      <td>0.013925</td>\n",
              "      <td>0.013925</td>\n",
              "      <td>0.013926</td>\n",
              "    </tr>\n",
              "    <tr>\n",
              "      <th>3</th>\n",
              "      <td>0.000000</td>\n",
              "      <td>0.931820</td>\n",
              "      <td>0.000000</td>\n",
              "      <td>0.000000</td>\n",
              "      <td>0.000000</td>\n",
              "      <td>0.000000</td>\n",
              "      <td>0.000000</td>\n",
              "      <td>0.000000</td>\n",
              "      <td>0.000000</td>\n",
              "      <td>0.000000</td>\n",
              "    </tr>\n",
              "    <tr>\n",
              "      <th>4</th>\n",
              "      <td>0.000000</td>\n",
              "      <td>0.912480</td>\n",
              "      <td>0.000000</td>\n",
              "      <td>0.000000</td>\n",
              "      <td>0.000000</td>\n",
              "      <td>0.000000</td>\n",
              "      <td>0.000000</td>\n",
              "      <td>0.000000</td>\n",
              "      <td>0.000000</td>\n",
              "      <td>0.000000</td>\n",
              "    </tr>\n",
              "  </tbody>\n",
              "</table>\n",
              "</div>\n",
              "    <div class=\"colab-df-buttons\">\n",
              "\n",
              "  <div class=\"colab-df-container\">\n",
              "    <button class=\"colab-df-convert\" onclick=\"convertToInteractive('df-da04e43d-cb56-494a-9d62-409ca59eb366')\"\n",
              "            title=\"Convert this dataframe to an interactive table.\"\n",
              "            style=\"display:none;\">\n",
              "\n",
              "  <svg xmlns=\"http://www.w3.org/2000/svg\" height=\"24px\" viewBox=\"0 -960 960 960\">\n",
              "    <path d=\"M120-120v-720h720v720H120Zm60-500h600v-160H180v160Zm220 220h160v-160H400v160Zm0 220h160v-160H400v160ZM180-400h160v-160H180v160Zm440 0h160v-160H620v160ZM180-180h160v-160H180v160Zm440 0h160v-160H620v160Z\"/>\n",
              "  </svg>\n",
              "    </button>\n",
              "\n",
              "  <style>\n",
              "    .colab-df-container {\n",
              "      display:flex;\n",
              "      gap: 12px;\n",
              "    }\n",
              "\n",
              "    .colab-df-convert {\n",
              "      background-color: #E8F0FE;\n",
              "      border: none;\n",
              "      border-radius: 50%;\n",
              "      cursor: pointer;\n",
              "      display: none;\n",
              "      fill: #1967D2;\n",
              "      height: 32px;\n",
              "      padding: 0 0 0 0;\n",
              "      width: 32px;\n",
              "    }\n",
              "\n",
              "    .colab-df-convert:hover {\n",
              "      background-color: #E2EBFA;\n",
              "      box-shadow: 0px 1px 2px rgba(60, 64, 67, 0.3), 0px 1px 3px 1px rgba(60, 64, 67, 0.15);\n",
              "      fill: #174EA6;\n",
              "    }\n",
              "\n",
              "    .colab-df-buttons div {\n",
              "      margin-bottom: 4px;\n",
              "    }\n",
              "\n",
              "    [theme=dark] .colab-df-convert {\n",
              "      background-color: #3B4455;\n",
              "      fill: #D2E3FC;\n",
              "    }\n",
              "\n",
              "    [theme=dark] .colab-df-convert:hover {\n",
              "      background-color: #434B5C;\n",
              "      box-shadow: 0px 1px 3px 1px rgba(0, 0, 0, 0.15);\n",
              "      filter: drop-shadow(0px 1px 2px rgba(0, 0, 0, 0.3));\n",
              "      fill: #FFFFFF;\n",
              "    }\n",
              "  </style>\n",
              "\n",
              "    <script>\n",
              "      const buttonEl =\n",
              "        document.querySelector('#df-da04e43d-cb56-494a-9d62-409ca59eb366 button.colab-df-convert');\n",
              "      buttonEl.style.display =\n",
              "        google.colab.kernel.accessAllowed ? 'block' : 'none';\n",
              "\n",
              "      async function convertToInteractive(key) {\n",
              "        const element = document.querySelector('#df-da04e43d-cb56-494a-9d62-409ca59eb366');\n",
              "        const dataTable =\n",
              "          await google.colab.kernel.invokeFunction('convertToInteractive',\n",
              "                                                    [key], {});\n",
              "        if (!dataTable) return;\n",
              "\n",
              "        const docLinkHtml = 'Like what you see? Visit the ' +\n",
              "          '<a target=\"_blank\" href=https://colab.research.google.com/notebooks/data_table.ipynb>data table notebook</a>'\n",
              "          + ' to learn more about interactive tables.';\n",
              "        element.innerHTML = '';\n",
              "        dataTable['output_type'] = 'display_data';\n",
              "        await google.colab.output.renderOutput(dataTable, element);\n",
              "        const docLink = document.createElement('div');\n",
              "        docLink.innerHTML = docLinkHtml;\n",
              "        element.appendChild(docLink);\n",
              "      }\n",
              "    </script>\n",
              "  </div>\n",
              "\n",
              "\n",
              "<div id=\"df-cb02bc1d-3e99-455c-9632-13afcded85bf\">\n",
              "  <button class=\"colab-df-quickchart\" onclick=\"quickchart('df-cb02bc1d-3e99-455c-9632-13afcded85bf')\"\n",
              "            title=\"Suggest charts\"\n",
              "            style=\"display:none;\">\n",
              "\n",
              "<svg xmlns=\"http://www.w3.org/2000/svg\" height=\"24px\"viewBox=\"0 0 24 24\"\n",
              "     width=\"24px\">\n",
              "    <g>\n",
              "        <path d=\"M19 3H5c-1.1 0-2 .9-2 2v14c0 1.1.9 2 2 2h14c1.1 0 2-.9 2-2V5c0-1.1-.9-2-2-2zM9 17H7v-7h2v7zm4 0h-2V7h2v10zm4 0h-2v-4h2v4z\"/>\n",
              "    </g>\n",
              "</svg>\n",
              "  </button>\n",
              "\n",
              "<style>\n",
              "  .colab-df-quickchart {\n",
              "      --bg-color: #E8F0FE;\n",
              "      --fill-color: #1967D2;\n",
              "      --hover-bg-color: #E2EBFA;\n",
              "      --hover-fill-color: #174EA6;\n",
              "      --disabled-fill-color: #AAA;\n",
              "      --disabled-bg-color: #DDD;\n",
              "  }\n",
              "\n",
              "  [theme=dark] .colab-df-quickchart {\n",
              "      --bg-color: #3B4455;\n",
              "      --fill-color: #D2E3FC;\n",
              "      --hover-bg-color: #434B5C;\n",
              "      --hover-fill-color: #FFFFFF;\n",
              "      --disabled-bg-color: #3B4455;\n",
              "      --disabled-fill-color: #666;\n",
              "  }\n",
              "\n",
              "  .colab-df-quickchart {\n",
              "    background-color: var(--bg-color);\n",
              "    border: none;\n",
              "    border-radius: 50%;\n",
              "    cursor: pointer;\n",
              "    display: none;\n",
              "    fill: var(--fill-color);\n",
              "    height: 32px;\n",
              "    padding: 0;\n",
              "    width: 32px;\n",
              "  }\n",
              "\n",
              "  .colab-df-quickchart:hover {\n",
              "    background-color: var(--hover-bg-color);\n",
              "    box-shadow: 0 1px 2px rgba(60, 64, 67, 0.3), 0 1px 3px 1px rgba(60, 64, 67, 0.15);\n",
              "    fill: var(--button-hover-fill-color);\n",
              "  }\n",
              "\n",
              "  .colab-df-quickchart-complete:disabled,\n",
              "  .colab-df-quickchart-complete:disabled:hover {\n",
              "    background-color: var(--disabled-bg-color);\n",
              "    fill: var(--disabled-fill-color);\n",
              "    box-shadow: none;\n",
              "  }\n",
              "\n",
              "  .colab-df-spinner {\n",
              "    border: 2px solid var(--fill-color);\n",
              "    border-color: transparent;\n",
              "    border-bottom-color: var(--fill-color);\n",
              "    animation:\n",
              "      spin 1s steps(1) infinite;\n",
              "  }\n",
              "\n",
              "  @keyframes spin {\n",
              "    0% {\n",
              "      border-color: transparent;\n",
              "      border-bottom-color: var(--fill-color);\n",
              "      border-left-color: var(--fill-color);\n",
              "    }\n",
              "    20% {\n",
              "      border-color: transparent;\n",
              "      border-left-color: var(--fill-color);\n",
              "      border-top-color: var(--fill-color);\n",
              "    }\n",
              "    30% {\n",
              "      border-color: transparent;\n",
              "      border-left-color: var(--fill-color);\n",
              "      border-top-color: var(--fill-color);\n",
              "      border-right-color: var(--fill-color);\n",
              "    }\n",
              "    40% {\n",
              "      border-color: transparent;\n",
              "      border-right-color: var(--fill-color);\n",
              "      border-top-color: var(--fill-color);\n",
              "    }\n",
              "    60% {\n",
              "      border-color: transparent;\n",
              "      border-right-color: var(--fill-color);\n",
              "    }\n",
              "    80% {\n",
              "      border-color: transparent;\n",
              "      border-right-color: var(--fill-color);\n",
              "      border-bottom-color: var(--fill-color);\n",
              "    }\n",
              "    90% {\n",
              "      border-color: transparent;\n",
              "      border-bottom-color: var(--fill-color);\n",
              "    }\n",
              "  }\n",
              "</style>\n",
              "\n",
              "  <script>\n",
              "    async function quickchart(key) {\n",
              "      const quickchartButtonEl =\n",
              "        document.querySelector('#' + key + ' button');\n",
              "      quickchartButtonEl.disabled = true;  // To prevent multiple clicks.\n",
              "      quickchartButtonEl.classList.add('colab-df-spinner');\n",
              "      try {\n",
              "        const charts = await google.colab.kernel.invokeFunction(\n",
              "            'suggestCharts', [key], {});\n",
              "      } catch (error) {\n",
              "        console.error('Error during call to suggestCharts:', error);\n",
              "      }\n",
              "      quickchartButtonEl.classList.remove('colab-df-spinner');\n",
              "      quickchartButtonEl.classList.add('colab-df-quickchart-complete');\n",
              "    }\n",
              "    (() => {\n",
              "      let quickchartButtonEl =\n",
              "        document.querySelector('#df-cb02bc1d-3e99-455c-9632-13afcded85bf button');\n",
              "      quickchartButtonEl.style.display =\n",
              "        google.colab.kernel.accessAllowed ? 'block' : 'none';\n",
              "    })();\n",
              "  </script>\n",
              "</div>\n",
              "    </div>\n",
              "  </div>\n"
            ]
          },
          "metadata": {},
          "execution_count": 122
        }
      ]
    },
    {
      "cell_type": "markdown",
      "source": [
        "for the first document, the second cluster(cluster at inex = 1) has the highest probability(about 0.89). for the second document, again the second cluster has the highest probability. and ... . I get the max of each row and assign it as our cluster number. I also add a +1 to cluster numbers to make it more human friendly."
      ],
      "metadata": {
        "id": "9i31MkMtc7lh"
      }
    },
    {
      "cell_type": "code",
      "source": [
        "# finding the max. value per row, retrieving its column name, adding +1 to it\n",
        "clusters = topic_probability.idxmax(axis=\"columns\")+1\n",
        "# assigning the clusters to a new column\n",
        "df['clusters'] = clusters\n",
        "df['clusters'].head()"
      ],
      "metadata": {
        "colab": {
          "base_uri": "https://localhost:8080/"
        },
        "id": "-HBGj2M4ZzOB",
        "outputId": "5399d9bf-d5b9-4d07-f7c0-4990c40933ec"
      },
      "execution_count": 128,
      "outputs": [
        {
          "output_type": "execute_result",
          "data": {
            "text/plain": [
              "0    2\n",
              "1    2\n",
              "2    2\n",
              "3    2\n",
              "4    2\n",
              "Name: clusters, dtype: int64"
            ]
          },
          "metadata": {},
          "execution_count": 128
        }
      ]
    },
    {
      "cell_type": "code",
      "source": [
        "# checking the number of observations per cluster\n",
        "df['clusters'].value_counts()"
      ],
      "metadata": {
        "colab": {
          "base_uri": "https://localhost:8080/"
        },
        "id": "jmuFynNLaD9_",
        "outputId": "9f85e8dd-5541-482b-9ee1-b06f48e19af3"
      },
      "execution_count": 131,
      "outputs": [
        {
          "output_type": "execute_result",
          "data": {
            "text/plain": [
              "2    1944\n",
              "6      39\n",
              "5      15\n",
              "4       1\n",
              "7       1\n",
              "Name: clusters, dtype: int64"
            ]
          },
          "metadata": {},
          "execution_count": 131
        }
      ]
    },
    {
      "cell_type": "markdown",
      "source": [
        "ooh, the second cluster encompasses almost more than 95% of all the observations! Let's see the highest frequency words for each topic. To do so, I should first group all 'features' per cluster to make a single list for each cluster. then, use the counter function of the collection library to easily count the number of words per cluster:"
      ],
      "metadata": {
        "id": "K9f705-Bel7p"
      }
    },
    {
      "cell_type": "markdown",
      "source": [],
      "metadata": {
        "id": "MUspcHsKgVrs"
      }
    },
    {
      "cell_type": "code",
      "source": [
        "# stack list of words together\n",
        "cluster_words = df.groupby('clusters')['features'].sum()\n",
        "\n",
        "# count the frequency of each word in each cluster\n",
        "cluster_word_counts = cluster_words.apply(Counter)\n",
        "\n",
        "# get the top 10 words per cluster\n",
        "top_words_per_cluster = cluster_word_counts.apply(lambda x: x.most_common(10))\n",
        "\n",
        "# showing the result\n",
        "for cluster, top_words in top_words_per_cluster.items():\n",
        "    print(f\"\\nCluster {cluster} - Top {10} words:\")\n",
        "    for word, count in top_words:\n",
        "        print(f\"{word}: {count}\")"
      ],
      "metadata": {
        "colab": {
          "base_uri": "https://localhost:8080/"
        },
        "id": "y5jR1oBTelAv",
        "outputId": "b99d3bfb-bb8a-4f03-c15c-5fdeae35fae8"
      },
      "execution_count": 135,
      "outputs": [
        {
          "output_type": "stream",
          "name": "stdout",
          "text": [
            "\n",
            "Cluster 2 - Top 10 words:\n",
            "say: 6749\n",
            "said: 6534\n",
            "company: 6369\n",
            "new: 5955\n",
            "year: 5939\n",
            "people: 5924\n",
            "time: 5563\n",
            "make: 3979\n",
            "way: 3893\n",
            "work: 3687\n",
            "\n",
            "Cluster 4 - Top 10 words:\n",
            "def: 8\n",
            "match: 7\n",
            "mauresmo: 6\n",
            "france: 6\n",
            "russia: 5\n",
            "slovakia: 4\n",
            "cibulkova: 4\n",
            "round: 4\n",
            "italy: 4\n",
            "seeded: 4\n",
            "\n",
            "Cluster 5 - Top 10 words:\n",
            "content: 14\n",
            "found: 14\n",
            "tai: 4\n",
            "chi: 4\n",
            "beijing: 3\n",
            "brh: 3\n",
            "institute: 2\n",
            "technology: 2\n",
            "robot: 2\n",
            "bot: 2\n",
            "\n",
            "Cluster 6 - Top 10 words:\n",
            "nan: 39\n",
            "\n",
            "Cluster 7 - Top 10 words:\n",
            "sweater: 4\n",
            "pant: 4\n",
            "frye: 4\n",
            "company: 4\n",
            "boot: 4\n",
            "coat: 4\n",
            "dress: 3\n",
            "worn: 3\n",
            "hermès: 3\n",
            "wrangler: 2\n"
          ]
        }
      ]
    },
    {
      "cell_type": "markdown",
      "source": [
        "Based on my understanding, and if I want to name the clusters based on their top words, I come up with these names:\n",
        "* cluster 2: people work in newyork time!\n",
        "* cluster 4: countries\n",
        "* cluster 6: nan, which is awkward and needs more investigation.\n",
        "* cluster 7: clothes\n",
        "\n",
        "**No need to mention**, I didn't try to to clean up the unexpected results that might happen when doing topic clustering, because it is the reality of our job. Each investigation provides some ideas for further and better models, and we come up with a newer model, and again and again ...."
      ],
      "metadata": {
        "id": "Q_wgE7NAhSYd"
      }
    },
    {
      "cell_type": "markdown",
      "source": [
        "# Conclusion"
      ],
      "metadata": {
        "id": "LmTPjAo7hvbS"
      }
    },
    {
      "cell_type": "markdown",
      "source": [
        "Topic clustering is a widespread task in NLP. Although it seems at the first glance, It requires further investigations and human checks. In this project, I tried to be fair and didn't manipulated the data to get just nice results; Meanwhile, I wanted to show the reality of the first results that we might get when doing an unsupervised nlp task.\n",
        "\n",
        "Totally, I found only foure meaningful clusters and then named the clusters to a more human-friendly names."
      ],
      "metadata": {
        "id": "OsIXXyCkh0jF"
      }
    }
  ]
}